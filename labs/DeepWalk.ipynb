{
 "cells": [
  {
   "cell_type": "markdown",
   "id": "6fbc0a5d",
   "metadata": {},
   "source": [
    "## DeepWalk (created from Randomwalk)\n",
    "\n",
    "Randomwalk algorithm using `networx` and the `karateclub`library.\n",
    "\n",
    "Jay Urbain, PhD\n",
    "\n",
    "11/11/2022, 3/11/2025\n",
    "\n",
    "Load the karate club graph using [networkx](https://networkx.org/)."
   ]
  },
  {
   "cell_type": "code",
   "execution_count": 8,
   "id": "f0659de5-ac24-4692-a188-74f78eb3baa2",
   "metadata": {},
   "outputs": [
    {
     "name": "stdout",
     "output_type": "stream",
     "text": [
      "Requirement already satisfied: pandas in /Users/jayurbain/miniconda3/envs/options_dashboard/lib/python3.12/site-packages (2.2.2)\n",
      "Requirement already satisfied: numpy>=1.26.0 in /Users/jayurbain/miniconda3/envs/options_dashboard/lib/python3.12/site-packages (from pandas) (1.26.4)\n",
      "Requirement already satisfied: python-dateutil>=2.8.2 in /Users/jayurbain/miniconda3/envs/options_dashboard/lib/python3.12/site-packages (from pandas) (2.9.0)\n",
      "Requirement already satisfied: pytz>=2020.1 in /Users/jayurbain/miniconda3/envs/options_dashboard/lib/python3.12/site-packages (from pandas) (2024.1)\n",
      "Requirement already satisfied: tzdata>=2022.7 in /Users/jayurbain/miniconda3/envs/options_dashboard/lib/python3.12/site-packages (from pandas) (2024.1)\n",
      "Requirement already satisfied: six>=1.5 in /Users/jayurbain/miniconda3/envs/options_dashboard/lib/python3.12/site-packages (from python-dateutil>=2.8.2->pandas) (1.16.0)\n"
     ]
    }
   ],
   "source": [
    "# tested with python 3.10, used conda environment\n",
    "\n",
    "# !python -m pip install --upgrade pip\n",
    "# !pip install karateclub --upgrade\n",
    "# !pip install networkx \n",
    "# !pip install numpy==1.22.0\n",
    "\n",
    "#!pip install scikit-learn\n",
    "#!pip install matplotlib\n",
    "!pip install pandas"
   ]
  },
  {
   "cell_type": "code",
   "execution_count": 1,
   "id": "99fe5c24",
   "metadata": {},
   "outputs": [
    {
     "name": "stdout",
     "output_type": "stream",
     "text": [
      "Number of nodes (club members) 34\n"
     ]
    }
   ],
   "source": [
    "import networkx as nx\n",
    "G = nx.karate_club_graph() # load the Zachary's karate club graph\n",
    "print(\"Number of nodes (club members)\", len(G.nodes))"
   ]
  },
  {
   "cell_type": "markdown",
   "id": "6e0b31cb",
   "metadata": {},
   "source": [
    "Plot the graph:"
   ]
  },
  {
   "cell_type": "code",
   "execution_count": 2,
   "id": "1b6a2b3d",
   "metadata": {},
   "outputs": [
    {
     "ename": "ImportError",
     "evalue": "Matplotlib requires numpy>=1.23; you have 1.22.0",
     "output_type": "error",
     "traceback": [
      "\u001b[0;31m---------------------------------------------------------------------------\u001b[0m",
      "\u001b[0;31mImportError\u001b[0m                               Traceback (most recent call last)",
      "Cell \u001b[0;32mIn[2], line 1\u001b[0m\n\u001b[0;32m----> 1\u001b[0m \u001b[43mnx\u001b[49m\u001b[38;5;241;43m.\u001b[39;49m\u001b[43mdraw_networkx\u001b[49m\u001b[43m(\u001b[49m\u001b[43mG\u001b[49m\u001b[43m)\u001b[49m\n",
      "File \u001b[0;32m~/miniconda3/envs/deepwalk/lib/python3.10/site-packages/networkx/drawing/nx_pylab.py:285\u001b[0m, in \u001b[0;36mdraw_networkx\u001b[0;34m(G, pos, arrows, with_labels, **kwds)\u001b[0m\n\u001b[1;32m    133\u001b[0m \u001b[38;5;250m\u001b[39m\u001b[38;5;124mr\u001b[39m\u001b[38;5;124;03m\"\"\"Draw the graph G using Matplotlib.\u001b[39;00m\n\u001b[1;32m    134\u001b[0m \n\u001b[1;32m    135\u001b[0m \u001b[38;5;124;03mDraw the graph with Matplotlib with options for node positions,\u001b[39;00m\n\u001b[0;32m   (...)\u001b[0m\n\u001b[1;32m    281\u001b[0m \u001b[38;5;124;03mdraw_networkx_edge_labels\u001b[39;00m\n\u001b[1;32m    282\u001b[0m \u001b[38;5;124;03m\"\"\"\u001b[39;00m\n\u001b[1;32m    283\u001b[0m \u001b[38;5;28;01mfrom\u001b[39;00m\u001b[38;5;250m \u001b[39m\u001b[38;5;21;01minspect\u001b[39;00m\u001b[38;5;250m \u001b[39m\u001b[38;5;28;01mimport\u001b[39;00m signature\n\u001b[0;32m--> 285\u001b[0m \u001b[38;5;28;01mimport\u001b[39;00m\u001b[38;5;250m \u001b[39m\u001b[38;5;21;01mmatplotlib\u001b[39;00m\u001b[38;5;21;01m.\u001b[39;00m\u001b[38;5;21;01mpyplot\u001b[39;00m\u001b[38;5;250m \u001b[39m\u001b[38;5;28;01mas\u001b[39;00m\u001b[38;5;250m \u001b[39m\u001b[38;5;21;01mplt\u001b[39;00m\n\u001b[1;32m    287\u001b[0m \u001b[38;5;66;03m# Get all valid keywords by inspecting the signatures of draw_networkx_nodes,\u001b[39;00m\n\u001b[1;32m    288\u001b[0m \u001b[38;5;66;03m# draw_networkx_edges, draw_networkx_labels\u001b[39;00m\n\u001b[1;32m    290\u001b[0m valid_node_kwds \u001b[38;5;241m=\u001b[39m signature(draw_networkx_nodes)\u001b[38;5;241m.\u001b[39mparameters\u001b[38;5;241m.\u001b[39mkeys()\n",
      "File \u001b[0;32m~/miniconda3/envs/deepwalk/lib/python3.10/site-packages/matplotlib/__init__.py:264\u001b[0m\n\u001b[1;32m    259\u001b[0m         \u001b[38;5;28;01mif\u001b[39;00m parse_version(module\u001b[38;5;241m.\u001b[39m__version__) \u001b[38;5;241m<\u001b[39m parse_version(minver):\n\u001b[1;32m    260\u001b[0m             \u001b[38;5;28;01mraise\u001b[39;00m \u001b[38;5;167;01mImportError\u001b[39;00m(\u001b[38;5;124mf\u001b[39m\u001b[38;5;124m\"\u001b[39m\u001b[38;5;124mMatplotlib requires \u001b[39m\u001b[38;5;132;01m{\u001b[39;00mmodname\u001b[38;5;132;01m}\u001b[39;00m\u001b[38;5;124m>=\u001b[39m\u001b[38;5;132;01m{\u001b[39;00mminver\u001b[38;5;132;01m}\u001b[39;00m\u001b[38;5;124m; \u001b[39m\u001b[38;5;124m\"\u001b[39m\n\u001b[1;32m    261\u001b[0m                               \u001b[38;5;124mf\u001b[39m\u001b[38;5;124m\"\u001b[39m\u001b[38;5;124myou have \u001b[39m\u001b[38;5;132;01m{\u001b[39;00mmodule\u001b[38;5;241m.\u001b[39m__version__\u001b[38;5;132;01m}\u001b[39;00m\u001b[38;5;124m\"\u001b[39m)\n\u001b[0;32m--> 264\u001b[0m \u001b[43m_check_versions\u001b[49m\u001b[43m(\u001b[49m\u001b[43m)\u001b[49m\n\u001b[1;32m    267\u001b[0m \u001b[38;5;66;03m# The decorator ensures this always returns the same handler (and it is only\u001b[39;00m\n\u001b[1;32m    268\u001b[0m \u001b[38;5;66;03m# attached once).\u001b[39;00m\n\u001b[1;32m    269\u001b[0m \u001b[38;5;129m@functools\u001b[39m\u001b[38;5;241m.\u001b[39mcache\n\u001b[1;32m    270\u001b[0m \u001b[38;5;28;01mdef\u001b[39;00m\u001b[38;5;250m \u001b[39m\u001b[38;5;21m_ensure_handler\u001b[39m():\n",
      "File \u001b[0;32m~/miniconda3/envs/deepwalk/lib/python3.10/site-packages/matplotlib/__init__.py:260\u001b[0m, in \u001b[0;36m_check_versions\u001b[0;34m()\u001b[0m\n\u001b[1;32m    258\u001b[0m module \u001b[38;5;241m=\u001b[39m importlib\u001b[38;5;241m.\u001b[39mimport_module(modname)\n\u001b[1;32m    259\u001b[0m \u001b[38;5;28;01mif\u001b[39;00m parse_version(module\u001b[38;5;241m.\u001b[39m__version__) \u001b[38;5;241m<\u001b[39m parse_version(minver):\n\u001b[0;32m--> 260\u001b[0m     \u001b[38;5;28;01mraise\u001b[39;00m \u001b[38;5;167;01mImportError\u001b[39;00m(\u001b[38;5;124mf\u001b[39m\u001b[38;5;124m\"\u001b[39m\u001b[38;5;124mMatplotlib requires \u001b[39m\u001b[38;5;132;01m{\u001b[39;00mmodname\u001b[38;5;132;01m}\u001b[39;00m\u001b[38;5;124m>=\u001b[39m\u001b[38;5;132;01m{\u001b[39;00mminver\u001b[38;5;132;01m}\u001b[39;00m\u001b[38;5;124m; \u001b[39m\u001b[38;5;124m\"\u001b[39m\n\u001b[1;32m    261\u001b[0m                       \u001b[38;5;124mf\u001b[39m\u001b[38;5;124m\"\u001b[39m\u001b[38;5;124myou have \u001b[39m\u001b[38;5;132;01m{\u001b[39;00mmodule\u001b[38;5;241m.\u001b[39m__version__\u001b[38;5;132;01m}\u001b[39;00m\u001b[38;5;124m\"\u001b[39m)\n",
      "\u001b[0;31mImportError\u001b[0m: Matplotlib requires numpy>=1.23; you have 1.22.0"
     ]
    }
   ],
   "source": [
    "nx.draw_networkx(G)"
   ]
  },
  {
   "cell_type": "markdown",
   "id": "c1cfdad6",
   "metadata": {},
   "source": [
    "Each node represents a participant. If the participants talk to each other, they have a relationship.\n",
    "\n",
    "There are two types of labels or group memberships.\n",
    "\n",
    "Plot the graph with labels:"
   ]
  },
  {
   "cell_type": "code",
   "execution_count": null,
   "id": "38023235",
   "metadata": {},
   "outputs": [],
   "source": [
    "# plot the graph with labels\n",
    "labels = []\n",
    "for i in G.nodes:\n",
    "    # Mr. Hi or Officer\n",
    "    club_names = G.nodes[i]['club']\n",
    "    # Numerically encode club name\n",
    "    labels.append(1 if club_names == \"Officer\" else 0)\n",
    "#print('labels', labels)  \n",
    "\n",
    "# can choose different layout\n",
    "layout_pos = nx.spring_layout(G)\n",
    "nx.draw_networkx(G, pos=layout_pos, node_color=labels, cmap='coolwarm')"
   ]
  },
  {
   "cell_type": "markdown",
   "id": "03bdc5a0",
   "metadata": {},
   "source": [
    "Perform node embedding using the `Deepwalk` algorithm and the `karateclub` library.\n",
    "\n",
    "Paper:   \n",
    "[DeepWalk: Online Learning of Social Representations](https://arxiv.org/abs/1403.6652)\n",
    "\n",
    "Karateclub library:    \n",
    "https://karateclub.readthedocs.io/en/latest/notes/introduction.html\n",
    "\n",
    "Karateclub DeepWalk reference:   \n",
    "https://karateclub.readthedocs.io/en/latest/modules/root.html#karateclub.node_embedding.neighbourhood.deepwalk.DeepWalk"
   ]
  },
  {
   "cell_type": "code",
   "execution_count": 4,
   "id": "26449049",
   "metadata": {},
   "outputs": [
    {
     "name": "stderr",
     "output_type": "stream",
     "text": [
      "/Users/jayurbain/miniconda3/envs/deepwalk/lib/python3.10/site-packages/sklearn/utils/_param_validation.py:14: UserWarning: A NumPy version >=1.23.5 and <2.5.0 is required for this version of SciPy (detected version 1.22.0)\n",
      "  from scipy.sparse import csr_matrix, issparse\n"
     ]
    },
    {
     "ename": "AttributeError",
     "evalue": "'list' object has no attribute 'number_of_nodes'",
     "output_type": "error",
     "traceback": [
      "\u001b[0;31m---------------------------------------------------------------------------\u001b[0m",
      "\u001b[0;31mAttributeError\u001b[0m                            Traceback (most recent call last)",
      "Cell \u001b[0;32mIn[4], line 15\u001b[0m\n\u001b[1;32m     12\u001b[0m Node2Vec_model \u001b[38;5;241m=\u001b[39m Node2Vec(walk_number\u001b[38;5;241m=\u001b[39m\u001b[38;5;241m10\u001b[39m, walk_length\u001b[38;5;241m=\u001b[39m\u001b[38;5;241m80\u001b[39m, p\u001b[38;5;241m=\u001b[39m\u001b[38;5;241m0.6\u001b[39m, q\u001b[38;5;241m=\u001b[39m\u001b[38;5;241m0.4\u001b[39m, dimensions\u001b[38;5;241m=\u001b[39m\u001b[38;5;241m124\u001b[39m)\n\u001b[1;32m     14\u001b[0m \u001b[38;5;66;03m# fit the model to the graph \u001b[39;00m\n\u001b[0;32m---> 15\u001b[0m \u001b[43mNode2Vec_model\u001b[49m\u001b[38;5;241;43m.\u001b[39;49m\u001b[43mfit\u001b[49m\u001b[43m(\u001b[49m\u001b[43m[\u001b[49m\u001b[43mG\u001b[49m\u001b[43m]\u001b[49m\u001b[43m)\u001b[49m\n",
      "File \u001b[0;32m~/miniconda3/envs/deepwalk/lib/python3.10/site-packages/karateclub/node_embedding/neighbourhood/node2vec.py:69\u001b[0m, in \u001b[0;36mNode2Vec.fit\u001b[0;34m(self, graph)\u001b[0m\n\u001b[1;32m     62\u001b[0m \u001b[38;5;250m\u001b[39m\u001b[38;5;124;03m\"\"\"\u001b[39;00m\n\u001b[1;32m     63\u001b[0m \u001b[38;5;124;03mFitting a DeepWalk model.\u001b[39;00m\n\u001b[1;32m     64\u001b[0m \n\u001b[1;32m     65\u001b[0m \u001b[38;5;124;03mArg types:\u001b[39;00m\n\u001b[1;32m     66\u001b[0m \u001b[38;5;124;03m    * **graph** *(NetworkX graph)* - The graph to be embedded.\u001b[39;00m\n\u001b[1;32m     67\u001b[0m \u001b[38;5;124;03m\"\"\"\u001b[39;00m\n\u001b[1;32m     68\u001b[0m \u001b[38;5;28mself\u001b[39m\u001b[38;5;241m.\u001b[39m_set_seed()\n\u001b[0;32m---> 69\u001b[0m graph \u001b[38;5;241m=\u001b[39m \u001b[38;5;28;43mself\u001b[39;49m\u001b[38;5;241;43m.\u001b[39;49m\u001b[43m_check_graph\u001b[49m\u001b[43m(\u001b[49m\u001b[43mgraph\u001b[49m\u001b[43m)\u001b[49m\n\u001b[1;32m     70\u001b[0m walker \u001b[38;5;241m=\u001b[39m BiasedRandomWalker(\u001b[38;5;28mself\u001b[39m\u001b[38;5;241m.\u001b[39mwalk_length, \u001b[38;5;28mself\u001b[39m\u001b[38;5;241m.\u001b[39mwalk_number, \u001b[38;5;28mself\u001b[39m\u001b[38;5;241m.\u001b[39mp, \u001b[38;5;28mself\u001b[39m\u001b[38;5;241m.\u001b[39mq)\n\u001b[1;32m     71\u001b[0m walker\u001b[38;5;241m.\u001b[39mdo_walks(graph)\n",
      "File \u001b[0;32m~/miniconda3/envs/deepwalk/lib/python3.10/site-packages/karateclub/estimator.py:65\u001b[0m, in \u001b[0;36mEstimator._check_graph\u001b[0;34m(self, graph)\u001b[0m\n\u001b[1;32m     63\u001b[0m \u001b[38;5;28;01mdef\u001b[39;00m\u001b[38;5;250m \u001b[39m\u001b[38;5;21m_check_graph\u001b[39m(\u001b[38;5;28mself\u001b[39m, graph: nx\u001b[38;5;241m.\u001b[39mclasses\u001b[38;5;241m.\u001b[39mgraph\u001b[38;5;241m.\u001b[39mGraph) \u001b[38;5;241m-\u001b[39m\u001b[38;5;241m>\u001b[39m nx\u001b[38;5;241m.\u001b[39mclasses\u001b[38;5;241m.\u001b[39mgraph\u001b[38;5;241m.\u001b[39mGraph:\n\u001b[1;32m     64\u001b[0m \u001b[38;5;250m    \u001b[39m\u001b[38;5;124;03m\"\"\"Check the Karate Club assumptions about the graph.\"\"\"\u001b[39;00m\n\u001b[0;32m---> 65\u001b[0m     \u001b[38;5;28;43mself\u001b[39;49m\u001b[38;5;241;43m.\u001b[39;49m\u001b[43m_check_indexing\u001b[49m\u001b[43m(\u001b[49m\u001b[43mgraph\u001b[49m\u001b[43m)\u001b[49m\n\u001b[1;32m     66\u001b[0m     graph \u001b[38;5;241m=\u001b[39m \u001b[38;5;28mself\u001b[39m\u001b[38;5;241m.\u001b[39m_ensure_integrity(graph)\n\u001b[1;32m     68\u001b[0m     \u001b[38;5;28;01mreturn\u001b[39;00m graph\n",
      "File \u001b[0;32m~/miniconda3/envs/deepwalk/lib/python3.10/site-packages/karateclub/estimator.py:58\u001b[0m, in \u001b[0;36mEstimator._check_indexing\u001b[0;34m(graph)\u001b[0m\n\u001b[1;32m     55\u001b[0m \u001b[38;5;129m@staticmethod\u001b[39m\n\u001b[1;32m     56\u001b[0m \u001b[38;5;28;01mdef\u001b[39;00m\u001b[38;5;250m \u001b[39m\u001b[38;5;21m_check_indexing\u001b[39m(graph: nx\u001b[38;5;241m.\u001b[39mclasses\u001b[38;5;241m.\u001b[39mgraph\u001b[38;5;241m.\u001b[39mGraph):\n\u001b[1;32m     57\u001b[0m \u001b[38;5;250m    \u001b[39m\u001b[38;5;124;03m\"\"\"Checking the consecutive numeric indexing.\"\"\"\u001b[39;00m\n\u001b[0;32m---> 58\u001b[0m     numeric_indices \u001b[38;5;241m=\u001b[39m [index \u001b[38;5;28;01mfor\u001b[39;00m index \u001b[38;5;129;01min\u001b[39;00m \u001b[38;5;28mrange\u001b[39m(\u001b[43mgraph\u001b[49m\u001b[38;5;241;43m.\u001b[39;49m\u001b[43mnumber_of_nodes\u001b[49m())]\n\u001b[1;32m     59\u001b[0m     node_indices \u001b[38;5;241m=\u001b[39m \u001b[38;5;28msorted\u001b[39m([node \u001b[38;5;28;01mfor\u001b[39;00m node \u001b[38;5;129;01min\u001b[39;00m graph\u001b[38;5;241m.\u001b[39mnodes()])\n\u001b[1;32m     61\u001b[0m     \u001b[38;5;28;01massert\u001b[39;00m numeric_indices \u001b[38;5;241m==\u001b[39m node_indices, \u001b[38;5;124m\"\u001b[39m\u001b[38;5;124mThe node indexing is wrong.\u001b[39m\u001b[38;5;124m\"\u001b[39m\n",
      "\u001b[0;31mAttributeError\u001b[0m: 'list' object has no attribute 'number_of_nodes'"
     ]
    }
   ],
   "source": [
    "# Perform node embedding using the Deepwalk class in the karateclub library\n",
    "\n",
    "from karateclub import DeepWalk, Node2Vec\n",
    "\n",
    "# construct model - use Google  \n",
    "Deepwalk_model = DeepWalk(walk_number=10, walk_length=80, dimensions=124)\n",
    "\n",
    "# fit the model to the graph \n",
    "Deepwalk_model.fit(G)\n",
    "\n",
    "# construct model. Make Node2Vec a little more biased for staying local  \n",
    "Node2Vec_model = Node2Vec(walk_number=10, walk_length=80, p=0.6, q=0.4, dimensions=124)\n",
    "\n",
    "# fit the model to the graph \n",
    "Node2Vec_model.fit([G])\n"
   ]
  },
  {
   "cell_type": "raw",
   "id": "e0884da2",
   "metadata": {},
   "source": [
    "What are some issues with random walk?  \n",
    "- need to conduct many walks. Problem with large networks. \n",
    "\n",
    "Experiement with local/global p/q parameters for Node2Vec. \n",
    "- What are your results?\n",
    "- Provide an explanation for your results. Are they affected by a small dataset? If so, why?\n"
   ]
  },
  {
   "cell_type": "code",
   "execution_count": 3,
   "id": "6f75999e",
   "metadata": {},
   "outputs": [
    {
     "ename": "NameError",
     "evalue": "name 'Deepwalk_model' is not defined",
     "output_type": "error",
     "traceback": [
      "\u001b[0;31m---------------------------------------------------------------------------\u001b[0m",
      "\u001b[0;31mNameError\u001b[0m                                 Traceback (most recent call last)",
      "Cell \u001b[0;32mIn[3], line 2\u001b[0m\n\u001b[1;32m      1\u001b[0m \u001b[38;5;66;03m# get learned embedding\u001b[39;00m\n\u001b[0;32m----> 2\u001b[0m embedding \u001b[38;5;241m=\u001b[39m \u001b[43mDeepwalk_model\u001b[49m\u001b[38;5;241m.\u001b[39mget_embedding()\n\u001b[1;32m      4\u001b[0m node2Vec_embedding \u001b[38;5;241m=\u001b[39m Node2Vec_model\u001b[38;5;241m.\u001b[39mget_embedding()\n",
      "\u001b[0;31mNameError\u001b[0m: name 'Deepwalk_model' is not defined"
     ]
    }
   ],
   "source": [
    "# get learned embedding\n",
    "embedding = Deepwalk_model.get_embedding()\n",
    "\n",
    "node2Vec_embedding = Node2Vec_model.get_embedding()"
   ]
  },
  {
   "cell_type": "markdown",
   "id": "ca316329",
   "metadata": {},
   "source": [
    "How many nodes and how many features?     \n",
    "-- 34 x 124"
   ]
  },
  {
   "cell_type": "code",
   "execution_count": null,
   "id": "56726133",
   "metadata": {},
   "outputs": [],
   "source": [
    "print('Embedding array shape (nodex x features)', embedding.shape)\n",
    "print('Node2Vec Embedding array shape (nodex x features)', embedding.shape)"
   ]
  },
  {
   "cell_type": "markdown",
   "id": "b63135b8",
   "metadata": {},
   "source": [
    "Plot lower dimensional representations of the data.\n",
    "\n",
    "Can use [t-SNE](https://scikit-learn.org/stable/modules/generated/sklearn.manifold.TSNE.html) \n",
    "or [PCA](https://scikit-learn.org/stable/modules/generated/sklearn.decomposition.PCA.html)\n",
    "     "
   ]
  },
  {
   "cell_type": "code",
   "execution_count": null,
   "id": "efc95a7b",
   "metadata": {},
   "outputs": [],
   "source": [
    "# Low dimensional plot of the nodes x features\n",
    "import sklearn\n",
    "\n",
    "PCA_model = sklearn.decomposition.PCA(n_components=2)\n",
    "lowdimension_embedding = PCA_model.fit_transform( embedding )\n",
    "\n",
    "node2vec_lowdimension_embedding = PCA_model.fit_transform( node2Vec_embedding )"
   ]
  },
  {
   "cell_type": "markdown",
   "id": "801c036b",
   "metadata": {},
   "source": [
    "Lower dimensional embedding should be the nuber of nodes x 2."
   ]
  },
  {
   "cell_type": "code",
   "execution_count": null,
   "id": "7f968914",
   "metadata": {},
   "outputs": [],
   "source": [
    "print('Low dimmensional embedding representation from (node x 2):', lowdimension_embedding.shape)\n",
    "\n",
    "print('Low dimmensional node2vec embedding representation from (node x 2):', node2vec_lowdimension_embedding.shape)\n",
    "\n"
   ]
  },
  {
   "cell_type": "markdown",
   "id": "ecea143a",
   "metadata": {},
   "source": [
    "Plot 2-d represention"
   ]
  },
  {
   "cell_type": "code",
   "execution_count": null,
   "id": "a13f0973",
   "metadata": {},
   "outputs": [],
   "source": [
    "import matplotlib.pyplot as plt\n",
    "\n",
    "plt.scatter(lowdimension_embedding[:,0], lowdimension_embedding[:,1], c=labels, s=15, cmap='coolwarm')\n",
    "plt.title('RandomWalk')\n",
    "plt.show()\n",
    "\n",
    "plt.scatter(node2vec_lowdimension_embedding[:,0], node2vec_lowdimension_embedding[:,1], c=labels, s=15, cmap='coolwarm')\n",
    "plt.title('Node2Vec')\n",
    "plt.show()\n"
   ]
  },
  {
   "cell_type": "markdown",
   "id": "d0c1ff4f",
   "metadata": {},
   "source": [
    "After using Deepwalk we get a lower dimensional representation."
   ]
  },
  {
   "cell_type": "markdown",
   "id": "23c726ad",
   "metadata": {},
   "source": [
    "Now perform node classification.\n",
    "\n",
    "Create train and test data."
   ]
  },
  {
   "cell_type": "code",
   "execution_count": null,
   "id": "4e4f8f5a",
   "metadata": {},
   "outputs": [],
   "source": [
    "from sklearn.model_selection import train_test_split\n",
    "from sklearn.linear_model import LogisticRegression\n",
    "from sklearn.metrics import roc_auc_score\n",
    "\n",
    "x_train, x_test, y_train, y_test = train_test_split(embedding, labels, test_size=0.3)\n",
    "x_train, x_test\n"
   ]
  },
  {
   "cell_type": "markdown",
   "id": "c5cc8947",
   "metadata": {},
   "source": [
    "Fit the model to the data, i.e., the learned representations, using logistic regression."
   ]
  },
  {
   "cell_type": "code",
   "execution_count": null,
   "id": "d089b503",
   "metadata": {},
   "outputs": [],
   "source": [
    "ml_model = LogisticRegression(random_state=0).fit(x_train, y_train) \n",
    "y_predict = ml_model.predict(x_test)\n",
    "ml_acc = roc_auc_score(y_test, y_predict)\n",
    "print('AUC:', ml_acc)\n"
   ]
  },
  {
   "cell_type": "code",
   "execution_count": null,
   "id": "050b1481",
   "metadata": {},
   "outputs": [],
   "source": [
    "from sklearn.model_selection import train_test_split\n",
    "from sklearn.linear_model import LogisticRegression\n",
    "from sklearn.metrics import roc_auc_score\n",
    "\n",
    "x_train, x_test, y_train, y_test = train_test_split(node2Vec_embedding, labels, test_size=0.3)\n",
    "x_train, x_test"
   ]
  },
  {
   "cell_type": "code",
   "execution_count": 6,
   "id": "b4435da7",
   "metadata": {},
   "outputs": [
    {
     "ename": "NameError",
     "evalue": "name 'LogisticRegression' is not defined",
     "output_type": "error",
     "traceback": [
      "\u001b[0;31m---------------------------------------------------------------------------\u001b[0m",
      "\u001b[0;31mNameError\u001b[0m                                 Traceback (most recent call last)",
      "Cell \u001b[0;32mIn[6], line 1\u001b[0m\n\u001b[0;32m----> 1\u001b[0m ml_model \u001b[38;5;241m=\u001b[39m \u001b[43mLogisticRegression\u001b[49m(random_state\u001b[38;5;241m=\u001b[39m\u001b[38;5;241m0\u001b[39m)\u001b[38;5;241m.\u001b[39mfit(x_train, y_train) \n\u001b[1;32m      2\u001b[0m y_predict \u001b[38;5;241m=\u001b[39m ml_model\u001b[38;5;241m.\u001b[39mpredict(x_test)\n\u001b[1;32m      3\u001b[0m ml_acc \u001b[38;5;241m=\u001b[39m roc_auc_score(y_test, y_predict)\n",
      "\u001b[0;31mNameError\u001b[0m: name 'LogisticRegression' is not defined"
     ]
    }
   ],
   "source": [
    "ml_model = LogisticRegression(random_state=0).fit(x_train, y_train) \n",
    "y_predict = ml_model.predict(x_test)\n",
    "ml_acc = roc_auc_score(y_test, y_predict)\n",
    "print('AUC:', ml_acc)"
   ]
  },
  {
   "cell_type": "markdown",
   "id": "db8f0e30",
   "metadata": {},
   "source": [
    "Note: this is a relatively small and simple network.\n",
    "\n",
    "Random walk with restart???\n",
    "\n",
    "https://medium.com/@chaitanya_bhatia/random-walk-with-restart-and-its-applications-f53d7c98cb9"
   ]
  },
  {
   "cell_type": "code",
   "execution_count": null,
   "id": "05c2bc92",
   "metadata": {},
   "outputs": [],
   "source": []
  }
 ],
 "metadata": {
  "kernelspec": {
   "display_name": "deepwalk",
   "language": "python",
   "name": "deepwalk"
  },
  "language_info": {
   "codemirror_mode": {
    "name": "ipython",
    "version": 3
   },
   "file_extension": ".py",
   "mimetype": "text/x-python",
   "name": "python",
   "nbconvert_exporter": "python",
   "pygments_lexer": "ipython3",
   "version": "3.10.16"
  }
 },
 "nbformat": 4,
 "nbformat_minor": 5
}
