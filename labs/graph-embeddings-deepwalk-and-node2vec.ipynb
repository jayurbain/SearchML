{
 "cells": [
  {
   "cell_type": "markdown",
   "id": "printable-gateway",
   "metadata": {
    "id": "FOPPTjua_tFq",
    "papermill": {
     "duration": 0.062155,
     "end_time": "2021-07-06T18:01:16.163009",
     "exception": false,
     "start_time": "2021-07-06T18:01:16.100854",
     "status": "completed"
    },
    "tags": []
   },
   "source": [
    "<h2><center> <font color='black'> Graph Embeddings</font></center>"
   ]
  },
  {
   "cell_type": "markdown",
   "id": "civil-richmond",
   "metadata": {
    "id": "bIj9UK6E_tFs",
    "papermill": {
     "duration": 0.059455,
     "end_time": "2021-07-06T18:01:16.283157",
     "exception": false,
     "start_time": "2021-07-06T18:01:16.223702",
     "status": "completed"
    },
    "tags": []
   },
   "source": [
    "================================================================================================================"
   ]
  },
  {
   "cell_type": "markdown",
   "id": "african-summer",
   "metadata": {
    "id": "ZtvmlY0j_tFt",
    "papermill": {
     "duration": 0.058655,
     "end_time": "2021-07-06T18:01:16.402176",
     "exception": false,
     "start_time": "2021-07-06T18:01:16.343521",
     "status": "completed"
    },
    "tags": []
   },
   "source": [
    "\n",
    "+ **Graph Embeddings**\n",
    "  1. DeepWalk<br>\n",
    "      1.1 DeepWalk Basics<br>\n",
    "      1.2 Visualization of DeepWalk Embeddings<br>\n",
    "  2. Node2Vec<br>\n",
    "      2.1 Node2Vec Basics<br>\n",
    "      2.2 Use case: Node embeddings for Clustering\n"
   ]
  },
  {
   "cell_type": "code",
   "execution_count": 1,
   "id": "forced-values",
   "metadata": {
    "execution": {
     "iopub.execute_input": "2021-07-06T18:01:16.530439Z",
     "iopub.status.busy": "2021-07-06T18:01:16.529357Z",
     "iopub.status.idle": "2021-07-06T18:01:16.537668Z",
     "shell.execute_reply": "2021-07-06T18:01:16.538177Z",
     "shell.execute_reply.started": "2021-07-06T17:25:45.764596Z"
    },
    "id": "0UgAeUE0_tFt",
    "outputId": "b3ae35aa-00e1-4a09-fad5-3d5a097d4b80",
    "papermill": {
     "duration": 0.0758,
     "end_time": "2021-07-06T18:01:16.538443",
     "exception": false,
     "start_time": "2021-07-06T18:01:16.462643",
     "status": "completed"
    },
    "tags": []
   },
   "outputs": [],
   "source": [
    "from IPython.display import Image\n",
    "#Image(\"graph_embedding.png\")"
   ]
  },
  {
   "cell_type": "markdown",
   "id": "historical-elephant",
   "metadata": {
    "id": "62zczGdA_tFu",
    "papermill": {
     "duration": 0.060908,
     "end_time": "2021-07-06T18:01:16.662294",
     "exception": false,
     "start_time": "2021-07-06T18:01:16.601386",
     "status": "completed"
    },
    "tags": []
   },
   "source": [
    "# Graph Embeddings: \n",
    "Graph embedding is an approach that is used to transform nodes, edges, and their features into vector space (a lower dimension) whilst maximally preserving properties like graph structure and information.<br>\n",
    "**1. DeepWalk:**<br>\n",
    "DeepWalk is an algorithm that is used to create embeddings of the nodes in a graph. The embeddings are meant to encode the community structure of the graph. It achieves this by using SkipGram to create the embeddings. It uses short random walks to learn representations for vertices in graphs.DeepWalk implementation - https://github.com/prateekjoshi565/DeepWalk, http://www.perozzi.net/projects/deepwalk/<br>\n",
    "**2. NodeVec:**<br>\n",
    "The node2vec framework learns low-dimensional representations for nodes in a graph by optimizing a neighborhood preserving objective. The objective is flexible, and the algorithm accomodates for various definitions of network neighborhoods by simulating biased random walks. Specifically, it provides a way of balancing the exploration-exploitation tradeoff that in turn leads to representations obeying a spectrum of equivalences from homophily to structural equivalence. Node2Vec implementation - https://github.com/eliorc/node2vec, https://github.com/aditya-grover/node2vec"
   ]
  },
  {
   "cell_type": "markdown",
   "id": "pretty-oregon",
   "metadata": {
    "id": "4x71wYjh_tFu",
    "papermill": {
     "duration": 0.060921,
     "end_time": "2021-07-06T18:01:16.782577",
     "exception": false,
     "start_time": "2021-07-06T18:01:16.721656",
     "status": "completed"
    },
    "tags": []
   },
   "source": [
    "# 1. DeepWalk:"
   ]
  },
  {
   "cell_type": "markdown",
   "id": "isolated-oxford",
   "metadata": {
    "id": "MBhg42u1_tFu",
    "papermill": {
     "duration": 0.062534,
     "end_time": "2021-07-06T18:01:16.907413",
     "exception": false,
     "start_time": "2021-07-06T18:01:16.844879",
     "status": "completed"
    },
    "tags": []
   },
   "source": [
    "## Libraries needed\n",
    "\n",
    "**We need following libraries: networkx, Word2Vec, PCA**"
   ]
  },
  {
   "cell_type": "code",
   "execution_count": 2,
   "id": "elementary-ownership",
   "metadata": {
    "execution": {
     "iopub.execute_input": "2021-07-06T18:01:17.033245Z",
     "iopub.status.busy": "2021-07-06T18:01:17.032636Z",
     "iopub.status.idle": "2021-07-06T18:01:18.617641Z",
     "shell.execute_reply": "2021-07-06T18:01:18.616934Z",
     "shell.execute_reply.started": "2021-07-06T17:25:45.786372Z"
    },
    "id": "DTdhr3fM_tFv",
    "papermill": {
     "duration": 1.648769,
     "end_time": "2021-07-06T18:01:18.617787",
     "exception": false,
     "start_time": "2021-07-06T18:01:16.969018",
     "status": "completed"
    },
    "tags": []
   },
   "outputs": [],
   "source": [
    "import networkx as nx\n",
    "import pandas as pd\n",
    "import numpy as np\n",
    "import random\n",
    "from tqdm import tqdm\n",
    "from sklearn.decomposition import PCA\n",
    "\n",
    "import matplotlib.pyplot as plt\n",
    "%matplotlib inline\n",
    "from gensim.models import Word2Vec\n",
    "\n",
    "import warnings\n",
    "warnings.filterwarnings('ignore')"
   ]
  },
  {
   "cell_type": "code",
   "execution_count": 3,
   "id": "registered-peter",
   "metadata": {
    "execution": {
     "iopub.execute_input": "2021-07-06T18:01:18.760264Z",
     "iopub.status.busy": "2021-07-06T18:01:18.747034Z",
     "iopub.status.idle": "2021-07-06T18:01:40.427810Z",
     "shell.execute_reply": "2021-07-06T18:01:40.427147Z",
     "shell.execute_reply.started": "2021-07-06T17:29:55.757659Z"
    },
    "papermill": {
     "duration": 21.747766,
     "end_time": "2021-07-06T18:01:40.427980",
     "exception": false,
     "start_time": "2021-07-06T18:01:18.680214",
     "status": "completed"
    },
    "tags": []
   },
   "outputs": [
    {
     "name": "stdout",
     "output_type": "stream",
     "text": [
      "Collecting word2vec\r\n",
      "  Downloading word2vec-0.11.1.tar.gz (42 kB)\r\n",
      "\u001b[K     |████████████████████████████████| 42 kB 371 kB/s \r\n",
      "\u001b[?25h  Installing build dependencies ... \u001b[?25l-\b \b\\\b \b|\b \b/\b \b-\b \b\\\b \bdone\r\n",
      "\u001b[?25h  Getting requirements to build wheel ... \u001b[?25ldone\r\n",
      "\u001b[?25h    Preparing wheel metadata ... \u001b[?25l-\b \bdone\r\n",
      "\u001b[?25hRequirement already satisfied: numpy>=1.9.2 in /opt/conda/lib/python3.7/site-packages (from word2vec) (1.19.5)\r\n",
      "Requirement already satisfied: joblib in /opt/conda/lib/python3.7/site-packages (from word2vec) (1.0.1)\r\n",
      "Building wheels for collected packages: word2vec\r\n",
      "  Building wheel for word2vec (PEP 517) ... \u001b[?25l-\b \b\\\b \b|\b \b/\b \b-\b \bdone\r\n",
      "\u001b[?25h  Created wheel for word2vec: filename=word2vec-0.11.1-py2.py3-none-any.whl size=156422 sha256=3ed6e9a20bd1b8cdafd6a28d8e4ceab27b4a8a7256f4fa713fb1361970d4ab8f\r\n",
      "  Stored in directory: /root/.cache/pip/wheels/c9/c0/d4/29d797817e268124a32b6cf8beb8b8fe87b86f099d5a049e61\r\n",
      "Successfully built word2vec\r\n",
      "Installing collected packages: word2vec\r\n",
      "Successfully installed word2vec-0.11.1\r\n"
     ]
    }
   ],
   "source": [
    "!pip install word2vec"
   ]
  },
  {
   "cell_type": "code",
   "execution_count": 4,
   "id": "statistical-anthony",
   "metadata": {
    "execution": {
     "iopub.execute_input": "2021-07-06T18:01:40.577547Z",
     "iopub.status.busy": "2021-07-06T18:01:40.573087Z",
     "iopub.status.idle": "2021-07-06T18:01:48.850283Z",
     "shell.execute_reply": "2021-07-06T18:01:48.849563Z",
     "shell.execute_reply.started": "2021-07-06T17:30:19.021524Z"
    },
    "papermill": {
     "duration": 8.351946,
     "end_time": "2021-07-06T18:01:48.850419",
     "exception": false,
     "start_time": "2021-07-06T18:01:40.498473",
     "status": "completed"
    },
    "tags": []
   },
   "outputs": [
    {
     "name": "stdout",
     "output_type": "stream",
     "text": [
      "Collecting node2vec\r\n",
      "  Downloading node2vec-0.4.3.tar.gz (4.6 kB)\r\n",
      "Requirement already satisfied: networkx in /opt/conda/lib/python3.7/site-packages (from node2vec) (2.5)\r\n",
      "Requirement already satisfied: gensim in /opt/conda/lib/python3.7/site-packages (from node2vec) (4.0.1)\r\n",
      "Requirement already satisfied: numpy in /opt/conda/lib/python3.7/site-packages (from node2vec) (1.19.5)\r\n",
      "Requirement already satisfied: tqdm in /opt/conda/lib/python3.7/site-packages (from node2vec) (4.59.0)\r\n",
      "Requirement already satisfied: joblib>=0.13.2 in /opt/conda/lib/python3.7/site-packages (from node2vec) (1.0.1)\r\n",
      "Requirement already satisfied: scipy>=0.18.1 in /opt/conda/lib/python3.7/site-packages (from gensim->node2vec) (1.5.4)\r\n",
      "Requirement already satisfied: smart-open>=1.8.1 in /opt/conda/lib/python3.7/site-packages (from gensim->node2vec) (5.0.0)\r\n",
      "Requirement already satisfied: decorator>=4.3.0 in /opt/conda/lib/python3.7/site-packages (from networkx->node2vec) (4.4.2)\r\n",
      "Building wheels for collected packages: node2vec\r\n",
      "  Building wheel for node2vec (setup.py) ... \u001b[?25l-\b \b\\\b \bdone\r\n",
      "\u001b[?25h  Created wheel for node2vec: filename=node2vec-0.4.3-py3-none-any.whl size=5981 sha256=ca3fec5b741a647f40e447d57f5ed118b3e5634b6233c1d2231bfb8061185d0e\r\n",
      "  Stored in directory: /root/.cache/pip/wheels/07/62/78/5202cb8c03cbf1593b48a8a442fca8ceec2a8c80e22318bae9\r\n",
      "Successfully built node2vec\r\n",
      "Installing collected packages: node2vec\r\n",
      "Successfully installed node2vec-0.4.3\r\n"
     ]
    }
   ],
   "source": [
    "!pip install node2vec"
   ]
  },
  {
   "cell_type": "markdown",
   "id": "buried-seattle",
   "metadata": {
    "id": "VB2REFf5_tFv",
    "papermill": {
     "duration": 0.071052,
     "end_time": "2021-07-06T18:01:48.993556",
     "exception": false,
     "start_time": "2021-07-06T18:01:48.922504",
     "status": "completed"
    },
    "tags": []
   },
   "source": [
    "## Loading Dataset:"
   ]
  },
  {
   "cell_type": "code",
   "execution_count": 5,
   "id": "artistic-limit",
   "metadata": {
    "execution": {
     "iopub.execute_input": "2021-07-06T18:01:49.144735Z",
     "iopub.status.busy": "2021-07-06T18:01:49.144084Z",
     "iopub.status.idle": "2021-07-06T18:01:49.293869Z",
     "shell.execute_reply": "2021-07-06T18:01:49.293172Z",
     "shell.execute_reply.started": "2021-07-06T17:40:59.948872Z"
    },
    "id": "Xg8L3HPq_tFw",
    "papermill": {
     "duration": 0.228779,
     "end_time": "2021-07-06T18:01:49.294023",
     "exception": false,
     "start_time": "2021-07-06T18:01:49.065244",
     "status": "completed"
    },
    "tags": []
   },
   "outputs": [],
   "source": [
    "# Import the karate club csv file where edge list is stored (separated by space)\n",
    "edge_list = pd.read_csv(\"../input/karate-edgelistcsv/karate_edgelist.csv\", sep = ' ', header = None)"
   ]
  },
  {
   "cell_type": "code",
   "execution_count": 6,
   "id": "quality-ensemble",
   "metadata": {
    "execution": {
     "iopub.execute_input": "2021-07-06T18:01:49.446330Z",
     "iopub.status.busy": "2021-07-06T18:01:49.445329Z",
     "iopub.status.idle": "2021-07-06T18:01:49.462418Z",
     "shell.execute_reply": "2021-07-06T18:01:49.462897Z",
     "shell.execute_reply.started": "2021-07-06T17:41:00.083313Z"
    },
    "id": "3Gm8uDeU_tFw",
    "outputId": "b5c18787-c306-4ed3-c9a2-793e76d91126",
    "papermill": {
     "duration": 0.096743,
     "end_time": "2021-07-06T18:01:49.463069",
     "exception": false,
     "start_time": "2021-07-06T18:01:49.366326",
     "status": "completed"
    },
    "tags": []
   },
   "outputs": [
    {
     "data": {
      "text/html": [
       "<div>\n",
       "<style scoped>\n",
       "    .dataframe tbody tr th:only-of-type {\n",
       "        vertical-align: middle;\n",
       "    }\n",
       "\n",
       "    .dataframe tbody tr th {\n",
       "        vertical-align: top;\n",
       "    }\n",
       "\n",
       "    .dataframe thead th {\n",
       "        text-align: right;\n",
       "    }\n",
       "</style>\n",
       "<table border=\"1\" class=\"dataframe\">\n",
       "  <thead>\n",
       "    <tr style=\"text-align: right;\">\n",
       "      <th></th>\n",
       "      <th>0</th>\n",
       "      <th>1</th>\n",
       "    </tr>\n",
       "  </thead>\n",
       "  <tbody>\n",
       "    <tr>\n",
       "      <th>0</th>\n",
       "      <td>1</td>\n",
       "      <td>32</td>\n",
       "    </tr>\n",
       "    <tr>\n",
       "      <th>1</th>\n",
       "      <td>1</td>\n",
       "      <td>22</td>\n",
       "    </tr>\n",
       "    <tr>\n",
       "      <th>2</th>\n",
       "      <td>1</td>\n",
       "      <td>20</td>\n",
       "    </tr>\n",
       "    <tr>\n",
       "      <th>3</th>\n",
       "      <td>1</td>\n",
       "      <td>18</td>\n",
       "    </tr>\n",
       "    <tr>\n",
       "      <th>4</th>\n",
       "      <td>1</td>\n",
       "      <td>14</td>\n",
       "    </tr>\n",
       "  </tbody>\n",
       "</table>\n",
       "</div>"
      ],
      "text/plain": [
       "   0   1\n",
       "0  1  32\n",
       "1  1  22\n",
       "2  1  20\n",
       "3  1  18\n",
       "4  1  14"
      ]
     },
     "execution_count": 6,
     "metadata": {},
     "output_type": "execute_result"
    }
   ],
   "source": [
    "# check first five rows of the dataframe\n",
    "edge_list.head()"
   ]
  },
  {
   "cell_type": "code",
   "execution_count": 7,
   "id": "technological-investigation",
   "metadata": {
    "execution": {
     "iopub.execute_input": "2021-07-06T18:01:49.614792Z",
     "iopub.status.busy": "2021-07-06T18:01:49.613859Z",
     "iopub.status.idle": "2021-07-06T18:01:49.617098Z",
     "shell.execute_reply": "2021-07-06T18:01:49.616462Z",
     "shell.execute_reply.started": "2021-07-06T17:41:00.949216Z"
    },
    "id": "eLLV02Q7_tFx",
    "papermill": {
     "duration": 0.082157,
     "end_time": "2021-07-06T18:01:49.617231",
     "exception": false,
     "start_time": "2021-07-06T18:01:49.535074",
     "status": "completed"
    },
    "tags": []
   },
   "outputs": [],
   "source": [
    "# rename columns of the dataframe\n",
    "edge_list.rename(columns = {0:'source', 1: 'target'}, inplace = True)"
   ]
  },
  {
   "cell_type": "code",
   "execution_count": 8,
   "id": "silent-textbook",
   "metadata": {
    "execution": {
     "iopub.execute_input": "2021-07-06T18:01:49.772694Z",
     "iopub.status.busy": "2021-07-06T18:01:49.771925Z",
     "iopub.status.idle": "2021-07-06T18:01:49.775389Z",
     "shell.execute_reply": "2021-07-06T18:01:49.774787Z",
     "shell.execute_reply.started": "2021-07-06T17:41:01.346511Z"
    },
    "id": "fzGXpYSG_tFx",
    "outputId": "d3377c25-ea00-4a70-c95b-a7a8c9de37ab",
    "papermill": {
     "duration": 0.085995,
     "end_time": "2021-07-06T18:01:49.775525",
     "exception": false,
     "start_time": "2021-07-06T18:01:49.689530",
     "status": "completed"
    },
    "tags": []
   },
   "outputs": [
    {
     "data": {
      "text/html": [
       "<div>\n",
       "<style scoped>\n",
       "    .dataframe tbody tr th:only-of-type {\n",
       "        vertical-align: middle;\n",
       "    }\n",
       "\n",
       "    .dataframe tbody tr th {\n",
       "        vertical-align: top;\n",
       "    }\n",
       "\n",
       "    .dataframe thead th {\n",
       "        text-align: right;\n",
       "    }\n",
       "</style>\n",
       "<table border=\"1\" class=\"dataframe\">\n",
       "  <thead>\n",
       "    <tr style=\"text-align: right;\">\n",
       "      <th></th>\n",
       "      <th>source</th>\n",
       "      <th>target</th>\n",
       "    </tr>\n",
       "  </thead>\n",
       "  <tbody>\n",
       "    <tr>\n",
       "      <th>0</th>\n",
       "      <td>1</td>\n",
       "      <td>32</td>\n",
       "    </tr>\n",
       "    <tr>\n",
       "      <th>1</th>\n",
       "      <td>1</td>\n",
       "      <td>22</td>\n",
       "    </tr>\n",
       "    <tr>\n",
       "      <th>2</th>\n",
       "      <td>1</td>\n",
       "      <td>20</td>\n",
       "    </tr>\n",
       "    <tr>\n",
       "      <th>3</th>\n",
       "      <td>1</td>\n",
       "      <td>18</td>\n",
       "    </tr>\n",
       "    <tr>\n",
       "      <th>4</th>\n",
       "      <td>1</td>\n",
       "      <td>14</td>\n",
       "    </tr>\n",
       "  </tbody>\n",
       "</table>\n",
       "</div>"
      ],
      "text/plain": [
       "   source  target\n",
       "0       1      32\n",
       "1       1      22\n",
       "2       1      20\n",
       "3       1      18\n",
       "4       1      14"
      ]
     },
     "execution_count": 8,
     "metadata": {},
     "output_type": "execute_result"
    }
   ],
   "source": [
    "edge_list.head()"
   ]
  },
  {
   "cell_type": "code",
   "execution_count": 9,
   "id": "abroad-mandate",
   "metadata": {
    "execution": {
     "iopub.execute_input": "2021-07-06T18:01:49.925449Z",
     "iopub.status.busy": "2021-07-06T18:01:49.924834Z",
     "iopub.status.idle": "2021-07-06T18:01:49.929992Z",
     "shell.execute_reply": "2021-07-06T18:01:49.930431Z",
     "shell.execute_reply.started": "2021-07-06T17:41:01.70138Z"
    },
    "id": "tBeNOjiA_tFx",
    "papermill": {
     "duration": 0.082576,
     "end_time": "2021-07-06T18:01:49.930728",
     "exception": false,
     "start_time": "2021-07-06T18:01:49.848152",
     "status": "completed"
    },
    "tags": []
   },
   "outputs": [],
   "source": [
    "# convert integers into string\n",
    "edge_list = edge_list.applymap(str)"
   ]
  },
  {
   "cell_type": "markdown",
   "id": "broke-surrey",
   "metadata": {
    "id": "shR2mfe-_tFy",
    "papermill": {
     "duration": 0.073092,
     "end_time": "2021-07-06T18:01:50.077032",
     "exception": false,
     "start_time": "2021-07-06T18:01:50.003940",
     "status": "completed"
    },
    "tags": []
   },
   "source": [
    "## Creation of graph"
   ]
  },
  {
   "cell_type": "code",
   "execution_count": 10,
   "id": "personal-effects",
   "metadata": {
    "execution": {
     "iopub.execute_input": "2021-07-06T18:01:50.227791Z",
     "iopub.status.busy": "2021-07-06T18:01:50.226862Z",
     "iopub.status.idle": "2021-07-06T18:01:50.231702Z",
     "shell.execute_reply": "2021-07-06T18:01:50.232168Z",
     "shell.execute_reply.started": "2021-07-06T17:41:02.456112Z"
    },
    "id": "KcGG9IxA_tFy",
    "papermill": {
     "duration": 0.081102,
     "end_time": "2021-07-06T18:01:50.232332",
     "exception": false,
     "start_time": "2021-07-06T18:01:50.151230",
     "status": "completed"
    },
    "tags": []
   },
   "outputs": [],
   "source": [
    "# create undirected graph from the edgelist\n",
    "G=nx.from_pandas_edgelist(edge_list, source='source', target='target', create_using=nx.Graph())"
   ]
  },
  {
   "cell_type": "code",
   "execution_count": 11,
   "id": "thirty-victoria",
   "metadata": {
    "execution": {
     "iopub.execute_input": "2021-07-06T18:01:50.384309Z",
     "iopub.status.busy": "2021-07-06T18:01:50.383513Z",
     "iopub.status.idle": "2021-07-06T18:01:50.387400Z",
     "shell.execute_reply": "2021-07-06T18:01:50.386891Z",
     "shell.execute_reply.started": "2021-07-06T17:41:02.854173Z"
    },
    "id": "OxTl25wh_tFy",
    "outputId": "ddcb7883-b9aa-44f8-e877-6a57f9028675",
    "papermill": {
     "duration": 0.082397,
     "end_time": "2021-07-06T18:01:50.387531",
     "exception": false,
     "start_time": "2021-07-06T18:01:50.305134",
     "status": "completed"
    },
    "tags": []
   },
   "outputs": [
    {
     "data": {
      "text/plain": [
       "'Name: \\nType: Graph\\nNumber of nodes: 34\\nNumber of edges: 77\\nAverage degree:   4.5294'"
      ]
     },
     "execution_count": 11,
     "metadata": {},
     "output_type": "execute_result"
    }
   ],
   "source": [
    "# check the basic properties of the graph\n",
    "nx.info(G)"
   ]
  },
  {
   "cell_type": "code",
   "execution_count": 12,
   "id": "functioning-polyester",
   "metadata": {
    "execution": {
     "iopub.execute_input": "2021-07-06T18:01:50.564742Z",
     "iopub.status.busy": "2021-07-06T18:01:50.563996Z",
     "iopub.status.idle": "2021-07-06T18:01:50.567519Z",
     "shell.execute_reply": "2021-07-06T18:01:50.568091Z",
     "shell.execute_reply.started": "2021-07-06T17:41:03.237806Z"
    },
    "id": "LNTmB2rL_tFy",
    "outputId": "ed7f9f35-3515-4a12-be8f-e361779849e1",
    "papermill": {
     "duration": 0.092948,
     "end_time": "2021-07-06T18:01:50.568267",
     "exception": false,
     "start_time": "2021-07-06T18:01:50.475319",
     "status": "completed"
    },
    "tags": []
   },
   "outputs": [
    {
     "data": {
      "text/plain": [
       "NodeView(('1', '32', '22', '20', '18', '14', '13', '12', '11', '9', '8', '7', '6', '5', '4', '3', '2', '31', '10', '33', '29', '28', '17', '34', '15', '16', '19', '21', '23', '24', '30', '26', '25', '27'))"
      ]
     },
     "execution_count": 12,
     "metadata": {},
     "output_type": "execute_result"
    }
   ],
   "source": [
    "G.nodes"
   ]
  },
  {
   "cell_type": "markdown",
   "id": "still-steps",
   "metadata": {
    "id": "QShnL1k8_tFz",
    "papermill": {
     "duration": 0.072955,
     "end_time": "2021-07-06T18:01:50.715727",
     "exception": false,
     "start_time": "2021-07-06T18:01:50.642772",
     "status": "completed"
    },
    "tags": []
   },
   "source": [
    "## 1.1 Deep Walk Basics"
   ]
  },
  {
   "cell_type": "markdown",
   "id": "intensive-vocabulary",
   "metadata": {
    "id": "XBIhQuss_tFz",
    "papermill": {
     "duration": 0.073114,
     "end_time": "2021-07-06T18:01:50.862062",
     "exception": false,
     "start_time": "2021-07-06T18:01:50.788948",
     "status": "completed"
    },
    "tags": []
   },
   "source": [
    "### Random Walk"
   ]
  },
  {
   "cell_type": "code",
   "execution_count": 13,
   "id": "dressed-throw",
   "metadata": {
    "execution": {
     "iopub.execute_input": "2021-07-06T18:01:51.011976Z",
     "iopub.status.busy": "2021-07-06T18:01:51.011143Z",
     "iopub.status.idle": "2021-07-06T18:01:51.016868Z",
     "shell.execute_reply": "2021-07-06T18:01:51.017363Z",
     "shell.execute_reply.started": "2021-07-06T17:41:04.352268Z"
    },
    "id": "hQdn2iJb_tFz",
    "papermill": {
     "duration": 0.082056,
     "end_time": "2021-07-06T18:01:51.017524",
     "exception": false,
     "start_time": "2021-07-06T18:01:50.935468",
     "status": "completed"
    },
    "tags": []
   },
   "outputs": [],
   "source": [
    "# function to generate random walk sequences of nodes for a particular node\n",
    "def get_random_walk(node, walk_length):\n",
    "    # initialization\n",
    "    random_walk_length = [node]\n",
    "    \n",
    "    #loop over to get the nodes visited in a random walk\n",
    "    for i in range(walk_length-1):\n",
    "        # list of neighbors\n",
    "        neighbors = list(G.neighbors(node))\n",
    "        # if the same neighbors are present in ranom_walk_length list, then donot add them as new neighbors\n",
    "        neighbors = list(set(neighbors) - set(random_walk_length))    \n",
    "        if len(neighbors) == 0:\n",
    "            break\n",
    "        # pick any one neighbor randomly from the neighbors list\n",
    "        random_neighbor = random.choice(neighbors)\n",
    "        # append that random_neighbor to the random_walk_length list\n",
    "        random_walk_length.append(random_neighbor)\n",
    "        node = random_neighbor\n",
    "        \n",
    "    return random_walk_length"
   ]
  },
  {
   "cell_type": "code",
   "execution_count": 14,
   "id": "falling-corpus",
   "metadata": {
    "execution": {
     "iopub.execute_input": "2021-07-06T18:01:51.169622Z",
     "iopub.status.busy": "2021-07-06T18:01:51.168992Z",
     "iopub.status.idle": "2021-07-06T18:01:51.173702Z",
     "shell.execute_reply": "2021-07-06T18:01:51.174187Z",
     "shell.execute_reply.started": "2021-07-06T17:41:04.736107Z"
    },
    "id": "O6Sus4x3_tF0",
    "outputId": "bf16b704-243d-4611-9391-2d61000e8e8f",
    "papermill": {
     "duration": 0.082334,
     "end_time": "2021-07-06T18:01:51.174357",
     "exception": false,
     "start_time": "2021-07-06T18:01:51.092023",
     "status": "completed"
    },
    "tags": []
   },
   "outputs": [
    {
     "data": {
      "text/plain": [
       "['2', '4', '3', '33', '21', '34', '29', '32', '26', '24']"
      ]
     },
     "execution_count": 14,
     "metadata": {},
     "output_type": "execute_result"
    }
   ],
   "source": [
    "# check random walk for node '2'\n",
    "get_random_walk('2', 10)"
   ]
  },
  {
   "cell_type": "code",
   "execution_count": 15,
   "id": "stretch-optimum",
   "metadata": {
    "execution": {
     "iopub.execute_input": "2021-07-06T18:01:51.325250Z",
     "iopub.status.busy": "2021-07-06T18:01:51.324644Z",
     "iopub.status.idle": "2021-07-06T18:01:51.340418Z",
     "shell.execute_reply": "2021-07-06T18:01:51.339919Z",
     "shell.execute_reply.started": "2021-07-06T17:41:05.08316Z"
    },
    "id": "kln0J_KL_tF0",
    "outputId": "e4438c03-7ca1-4128-d184-c5a1b14f05f3",
    "papermill": {
     "duration": 0.092373,
     "end_time": "2021-07-06T18:01:51.340559",
     "exception": false,
     "start_time": "2021-07-06T18:01:51.248186",
     "status": "completed"
    },
    "tags": []
   },
   "outputs": [
    {
     "name": "stderr",
     "output_type": "stream",
     "text": [
      "100%|██████████| 34/34 [00:00<00:00, 5619.95it/s]\n"
     ]
    }
   ],
   "source": [
    "# calculate random walks for every node in the Graph\n",
    "all_nodes = list(G.nodes())\n",
    "number_of_random_walks = 5\n",
    "random_walks = []\n",
    "\n",
    "for node in tqdm(all_nodes):\n",
    "    # number of random walks\n",
    "    for i in range(number_of_random_walks):\n",
    "        # append the random walk sequence of a node from a specified length\n",
    "        random_walks.append(get_random_walk(node, 10))"
   ]
  },
  {
   "cell_type": "code",
   "execution_count": 16,
   "id": "falling-lebanon",
   "metadata": {
    "execution": {
     "iopub.execute_input": "2021-07-06T18:01:51.495630Z",
     "iopub.status.busy": "2021-07-06T18:01:51.494929Z",
     "iopub.status.idle": "2021-07-06T18:01:51.499038Z",
     "shell.execute_reply": "2021-07-06T18:01:51.499545Z",
     "shell.execute_reply.started": "2021-07-06T17:41:05.482754Z"
    },
    "id": "2gOp4XI4_tF0",
    "outputId": "59e33426-4ee7-4733-8233-f7c436c9ee71",
    "papermill": {
     "duration": 0.084491,
     "end_time": "2021-07-06T18:01:51.499740",
     "exception": false,
     "start_time": "2021-07-06T18:01:51.415249",
     "status": "completed"
    },
    "tags": []
   },
   "outputs": [
    {
     "data": {
      "text/plain": [
       "170"
      ]
     },
     "execution_count": 16,
     "metadata": {},
     "output_type": "execute_result"
    }
   ],
   "source": [
    "len(random_walks)"
   ]
  },
  {
   "cell_type": "code",
   "execution_count": 17,
   "id": "standing-selection",
   "metadata": {
    "execution": {
     "iopub.execute_input": "2021-07-06T18:01:51.654435Z",
     "iopub.status.busy": "2021-07-06T18:01:51.653839Z",
     "iopub.status.idle": "2021-07-06T18:01:51.658211Z",
     "shell.execute_reply": "2021-07-06T18:01:51.658789Z",
     "shell.execute_reply.started": "2021-07-06T17:41:05.864996Z"
    },
    "id": "G9tRSIIm_tF0",
    "outputId": "e06c53a0-22c4-4590-943e-7240e60e4438",
    "papermill": {
     "duration": 0.083965,
     "end_time": "2021-07-06T18:01:51.658964",
     "exception": false,
     "start_time": "2021-07-06T18:01:51.574999",
     "status": "completed"
    },
    "tags": []
   },
   "outputs": [
    {
     "data": {
      "text/plain": [
       "['1', '3', '8', '4', '2', '22']"
      ]
     },
     "execution_count": 17,
     "metadata": {},
     "output_type": "execute_result"
    }
   ],
   "source": [
    "random_walks[0]"
   ]
  },
  {
   "cell_type": "code",
   "execution_count": 18,
   "id": "verified-rogers",
   "metadata": {
    "execution": {
     "iopub.execute_input": "2021-07-06T18:01:51.812124Z",
     "iopub.status.busy": "2021-07-06T18:01:51.811506Z",
     "iopub.status.idle": "2021-07-06T18:01:51.817443Z",
     "shell.execute_reply": "2021-07-06T18:01:51.816945Z",
     "shell.execute_reply.started": "2021-07-06T17:41:06.266888Z"
    },
    "id": "TGiUkTQf_tF1",
    "outputId": "23a9e4c0-0428-4aac-c993-26d9cb9ccd7f",
    "papermill": {
     "duration": 0.08228,
     "end_time": "2021-07-06T18:01:51.817600",
     "exception": false,
     "start_time": "2021-07-06T18:01:51.735320",
     "status": "completed"
    },
    "tags": []
   },
   "outputs": [
    {
     "data": {
      "text/plain": [
       "['1', '8', '2', '14', '3', '10', '34', '30', '33', '24']"
      ]
     },
     "execution_count": 18,
     "metadata": {},
     "output_type": "execute_result"
    }
   ],
   "source": [
    "random_walks[1]"
   ]
  },
  {
   "cell_type": "code",
   "execution_count": 19,
   "id": "suspended-mining",
   "metadata": {
    "execution": {
     "iopub.execute_input": "2021-07-06T18:01:51.974692Z",
     "iopub.status.busy": "2021-07-06T18:01:51.973983Z",
     "iopub.status.idle": "2021-07-06T18:01:51.984954Z",
     "shell.execute_reply": "2021-07-06T18:01:51.984328Z",
     "shell.execute_reply.started": "2021-07-06T17:41:06.667659Z"
    },
    "id": "KzqogTxW_tF1",
    "papermill": {
     "duration": 0.092273,
     "end_time": "2021-07-06T18:01:51.985097",
     "exception": false,
     "start_time": "2021-07-06T18:01:51.892824",
     "status": "completed"
    },
    "tags": []
   },
   "outputs": [],
   "source": [
    "# train word2vec model\n",
    "model = Word2Vec(window = 4, sg = 1, hs = 0,\n",
    "                 negative = 10, # for negative sampling\n",
    "                 alpha=0.03, min_alpha=0.0007,\n",
    "    )\n",
    "\n",
    "model.build_vocab(random_walks, progress_per=2)"
   ]
  },
  {
   "cell_type": "code",
   "execution_count": 20,
   "id": "yellow-ukraine",
   "metadata": {
    "execution": {
     "iopub.execute_input": "2021-07-06T18:01:52.141829Z",
     "iopub.status.busy": "2021-07-06T18:01:52.140744Z",
     "iopub.status.idle": "2021-07-06T18:01:52.203679Z",
     "shell.execute_reply": "2021-07-06T18:01:52.203049Z",
     "shell.execute_reply.started": "2021-07-06T17:41:07.112134Z"
    },
    "id": "P8v8iAhD_tF1",
    "outputId": "f4b71e38-5f9c-4498-af34-f5b5dd22a9c2",
    "papermill": {
     "duration": 0.142699,
     "end_time": "2021-07-06T18:01:52.203813",
     "exception": false,
     "start_time": "2021-07-06T18:01:52.061114",
     "status": "completed"
    },
    "tags": []
   },
   "outputs": [
    {
     "data": {
      "text/plain": [
       "(6063, 28440)"
      ]
     },
     "execution_count": 20,
     "metadata": {},
     "output_type": "execute_result"
    }
   ],
   "source": [
    "model.train(random_walks, total_examples = model.corpus_count, epochs=20, report_delay=1)"
   ]
  },
  {
   "cell_type": "code",
   "execution_count": 21,
   "id": "neural-transsexual",
   "metadata": {
    "execution": {
     "iopub.execute_input": "2021-07-06T18:01:52.360693Z",
     "iopub.status.busy": "2021-07-06T18:01:52.360067Z",
     "iopub.status.idle": "2021-07-06T18:01:52.364848Z",
     "shell.execute_reply": "2021-07-06T18:01:52.365553Z",
     "shell.execute_reply.started": "2021-07-06T17:41:07.525727Z"
    },
    "id": "ZlVR3hIc_tF1",
    "outputId": "1473f5ce-c3c1-4d1a-cfcf-cd7d23f73c09",
    "papermill": {
     "duration": 0.084432,
     "end_time": "2021-07-06T18:01:52.365785",
     "exception": false,
     "start_time": "2021-07-06T18:01:52.281353",
     "status": "completed"
    },
    "tags": []
   },
   "outputs": [
    {
     "name": "stdout",
     "output_type": "stream",
     "text": [
      "Word2Vec(vocab=34, vector_size=100, alpha=0.03)\n"
     ]
    }
   ],
   "source": [
    "print(model)"
   ]
  },
  {
   "cell_type": "markdown",
   "id": "special-regard",
   "metadata": {
    "id": "D3PmHVVm_tF2",
    "papermill": {
     "duration": 0.077747,
     "end_time": "2021-07-06T18:01:52.521186",
     "exception": false,
     "start_time": "2021-07-06T18:01:52.443439",
     "status": "completed"
    },
    "tags": []
   },
   "source": [
    "## Most similar nodes"
   ]
  },
  {
   "cell_type": "code",
   "execution_count": 22,
   "id": "general-saying",
   "metadata": {
    "execution": {
     "iopub.execute_input": "2021-07-06T18:01:52.686311Z",
     "iopub.status.busy": "2021-07-06T18:01:52.685343Z",
     "iopub.status.idle": "2021-07-06T18:01:52.691684Z",
     "shell.execute_reply": "2021-07-06T18:01:52.692418Z",
     "shell.execute_reply.started": "2021-07-06T17:41:08.408795Z"
    },
    "id": "Ar-QxHeQ_tF2",
    "outputId": "12e9001c-f25e-4682-bf36-7d89fe928140",
    "papermill": {
     "duration": 0.088801,
     "end_time": "2021-07-06T18:01:52.692649",
     "exception": false,
     "start_time": "2021-07-06T18:01:52.603848",
     "status": "completed"
    },
    "tags": []
   },
   "outputs": [
    {
     "name": "stdout",
     "output_type": "stream",
     "text": [
      "('14', 0.9987058639526367)\n",
      "('18', 0.9985722899436951)\n",
      "('20', 0.9985635876655579)\n",
      "('12', 0.99839848279953)\n",
      "('13', 0.9983790516853333)\n",
      "('6', 0.9983264207839966)\n",
      "('21', 0.9983077645301819)\n",
      "('31', 0.9983022809028625)\n",
      "('17', 0.9982936978340149)\n",
      "('8', 0.9982364773750305)\n"
     ]
    }
   ],
   "source": [
    "# most similar nodes to node '1'\n",
    "for node, _ in model.wv.most_similar('1'):\n",
    "    print((node, _))"
   ]
  },
  {
   "cell_type": "code",
   "execution_count": 23,
   "id": "spiritual-volunteer",
   "metadata": {
    "execution": {
     "iopub.execute_input": "2021-07-06T18:01:52.848507Z",
     "iopub.status.busy": "2021-07-06T18:01:52.847913Z",
     "iopub.status.idle": "2021-07-06T18:01:53.089602Z",
     "shell.execute_reply": "2021-07-06T18:01:53.088958Z",
     "shell.execute_reply.started": "2021-07-06T17:41:09.328074Z"
    },
    "id": "6ocVg4yM_tF2",
    "outputId": "022edccc-fb85-4ace-b9e3-bc687a7e4973",
    "papermill": {
     "duration": 0.319771,
     "end_time": "2021-07-06T18:01:53.089743",
     "exception": false,
     "start_time": "2021-07-06T18:01:52.769972",
     "status": "completed"
    },
    "tags": []
   },
   "outputs": [
    {
     "data": {
      "image/png": "[encoded data removed]",
      "text/plain": [
       "<Figure size 432x288 with 1 Axes>"
      ]
     },
     "metadata": {},
     "output_type": "display_data"
    }
   ],
   "source": [
    "nx.draw_networkx(G)"
   ]
  },
  {
   "cell_type": "markdown",
   "id": "absolute-ecuador",
   "metadata": {
    "id": "vVfOuGwV_tF2",
    "papermill": {
     "duration": 0.078548,
     "end_time": "2021-07-06T18:01:53.248056",
     "exception": false,
     "start_time": "2021-07-06T18:01:53.169508",
     "status": "completed"
    },
    "tags": []
   },
   "source": [
    "## 1.2 Visualization of DeepWalk Embeddings"
   ]
  },
  {
   "cell_type": "code",
   "execution_count": 24,
   "id": "electronic-federal",
   "metadata": {
    "execution": {
     "iopub.execute_input": "2021-07-06T18:01:53.413711Z",
     "iopub.status.busy": "2021-07-06T18:01:53.412988Z",
     "iopub.status.idle": "2021-07-06T18:01:53.416064Z",
     "shell.execute_reply": "2021-07-06T18:01:53.415432Z",
     "shell.execute_reply.started": "2021-07-06T17:41:29.436838Z"
    },
    "id": "78pLWTqD_tF2",
    "papermill": {
     "duration": 0.087943,
     "end_time": "2021-07-06T18:01:53.416201",
     "exception": false,
     "start_time": "2021-07-06T18:01:53.328258",
     "status": "completed"
    },
    "tags": []
   },
   "outputs": [],
   "source": [
    "def plot_nodes(word_list):\n",
    "    X = model.wv[word_list]\n",
    "    \n",
    "    # reduce dimensions to 2\n",
    "    pca = PCA(n_components=2)\n",
    "    result = pca.fit_transform(X)\n",
    "    \n",
    "    \n",
    "    plt.figure(figsize=(12,9))\n",
    "    # create a scatter plot of the projection\n",
    "    plt.scatter(result[:, 0], result[:, 1])\n",
    "    for i, word in enumerate(word_list):\n",
    "        plt.annotate(word, xy=(result[i, 0], result[i, 1]))\n",
    "        \n",
    "    plt.show()"
   ]
  },
  {
   "cell_type": "code",
   "execution_count": 25,
   "id": "mechanical-begin",
   "metadata": {
    "execution": {
     "iopub.execute_input": "2021-07-06T18:01:53.578557Z",
     "iopub.status.busy": "2021-07-06T18:01:53.577922Z",
     "iopub.status.idle": "2021-07-06T18:01:53.580857Z",
     "shell.execute_reply": "2021-07-06T18:01:53.580270Z",
     "shell.execute_reply.started": "2021-07-06T17:41:29.992851Z"
    },
    "id": "pU76fHUe_tF3",
    "papermill": {
     "duration": 0.086316,
     "end_time": "2021-07-06T18:01:53.581002",
     "exception": false,
     "start_time": "2021-07-06T18:01:53.494686",
     "status": "completed"
    },
    "tags": []
   },
   "outputs": [],
   "source": [
    "numbers = list(G.nodes)"
   ]
  },
  {
   "cell_type": "code",
   "execution_count": 26,
   "id": "ruled-courage",
   "metadata": {
    "execution": {
     "iopub.execute_input": "2021-07-06T18:01:53.777305Z",
     "iopub.status.busy": "2021-07-06T18:01:53.775188Z",
     "iopub.status.idle": "2021-07-06T18:01:54.043150Z",
     "shell.execute_reply": "2021-07-06T18:01:54.041835Z",
     "shell.execute_reply.started": "2021-07-06T17:41:30.495821Z"
    },
    "id": "HFyW1JI7_tF3",
    "outputId": "0b9e12f0-ee22-49fc-8a89-13a8ad4d607d",
    "papermill": {
     "duration": 0.382512,
     "end_time": "2021-07-06T18:01:54.043301",
     "exception": false,
     "start_time": "2021-07-06T18:01:53.660789",
     "status": "completed"
    },
    "tags": []
   },
   "outputs": [
    {
     "data": {
      "image/png": "[encoded data removed]",
      "text/plain": [
       "<Figure size 864x648 with 1 Axes>"
      ]
     },
     "metadata": {
      "needs_background": "light"
     },
     "output_type": "display_data"
    }
   ],
   "source": [
    "plot_nodes(numbers)"
   ]
  },
  {
   "cell_type": "markdown",
   "id": "worth-firewall",
   "metadata": {
    "id": "lqjr4z2m_tF3",
    "papermill": {
     "duration": 0.081551,
     "end_time": "2021-07-06T18:01:54.204946",
     "exception": false,
     "start_time": "2021-07-06T18:01:54.123395",
     "status": "completed"
    },
    "tags": []
   },
   "source": [
    "# 2. Node2Vec:"
   ]
  },
  {
   "cell_type": "markdown",
   "id": "broadband-talent",
   "metadata": {
    "id": "YpY-2itK_tF3",
    "papermill": {
     "duration": 0.078906,
     "end_time": "2021-07-06T18:01:54.364112",
     "exception": false,
     "start_time": "2021-07-06T18:01:54.285206",
     "status": "completed"
    },
    "tags": []
   },
   "source": [
    "## Libraries needed\n",
    "\n",
    "**We need following libraries: networkx, Node2Vec, TSNE, text-unidecode**"
   ]
  },
  {
   "cell_type": "code",
   "execution_count": 27,
   "id": "described-sunday",
   "metadata": {
    "execution": {
     "iopub.execute_input": "2021-07-06T18:01:54.527834Z",
     "iopub.status.busy": "2021-07-06T18:01:54.526892Z",
     "iopub.status.idle": "2021-07-06T18:01:54.539720Z",
     "shell.execute_reply": "2021-07-06T18:01:54.539114Z",
     "shell.execute_reply.started": "2021-07-06T17:52:08.730535Z"
    },
    "id": "PUg4GyrI_tF3",
    "papermill": {
     "duration": 0.097001,
     "end_time": "2021-07-06T18:01:54.539894",
     "exception": false,
     "start_time": "2021-07-06T18:01:54.442893",
     "status": "completed"
    },
    "tags": []
   },
   "outputs": [],
   "source": [
    "import pandas as pd\n",
    "import numpy as np\n",
    "import networkx as nx\n",
    "import matplotlib.pyplot as plt\n",
    "from node2vec import Node2Vec"
   ]
  },
  {
   "cell_type": "markdown",
   "id": "future-palace",
   "metadata": {
    "id": "mt3OXNra_tF3",
    "papermill": {
     "duration": 0.079329,
     "end_time": "2021-07-06T18:01:54.699027",
     "exception": false,
     "start_time": "2021-07-06T18:01:54.619698",
     "status": "completed"
    },
    "tags": []
   },
   "source": [
    "\n",
    "## Loading Dataset"
   ]
  },
  {
   "cell_type": "code",
   "execution_count": 28,
   "id": "thermal-weapon",
   "metadata": {
    "execution": {
     "iopub.execute_input": "2021-07-06T18:01:54.862153Z",
     "iopub.status.busy": "2021-07-06T18:01:54.861451Z",
     "iopub.status.idle": "2021-07-06T18:01:54.868327Z",
     "shell.execute_reply": "2021-07-06T18:01:54.867816Z",
     "shell.execute_reply.started": "2021-07-06T17:31:55.074414Z"
    },
    "id": "F29yHBSB_tF4",
    "papermill": {
     "duration": 0.09031,
     "end_time": "2021-07-06T18:01:54.868469",
     "exception": false,
     "start_time": "2021-07-06T18:01:54.778159",
     "status": "completed"
    },
    "tags": []
   },
   "outputs": [],
   "source": [
    "# import the karate club csv file where edge list is stored (separated by space)\n",
    "edge_list = pd.read_csv(\"../input/karate-edgelistcsv/karate_edgelist.csv\", sep = ' ', header = None)"
   ]
  },
  {
   "cell_type": "code",
   "execution_count": 29,
   "id": "painful-karma",
   "metadata": {
    "execution": {
     "iopub.execute_input": "2021-07-06T18:01:55.037088Z",
     "iopub.status.busy": "2021-07-06T18:01:55.036405Z",
     "iopub.status.idle": "2021-07-06T18:01:55.039240Z",
     "shell.execute_reply": "2021-07-06T18:01:55.039759Z",
     "shell.execute_reply.started": "2021-07-06T17:31:56.781161Z"
    },
    "id": "ioYSrva__tF4",
    "outputId": "f21a1a23-61a1-4888-dc17-127d20948f04",
    "papermill": {
     "duration": 0.091633,
     "end_time": "2021-07-06T18:01:55.039934",
     "exception": false,
     "start_time": "2021-07-06T18:01:54.948301",
     "status": "completed"
    },
    "tags": []
   },
   "outputs": [
    {
     "data": {
      "text/html": [
       "<div>\n",
       "<style scoped>\n",
       "    .dataframe tbody tr th:only-of-type {\n",
       "        vertical-align: middle;\n",
       "    }\n",
       "\n",
       "    .dataframe tbody tr th {\n",
       "        vertical-align: top;\n",
       "    }\n",
       "\n",
       "    .dataframe thead th {\n",
       "        text-align: right;\n",
       "    }\n",
       "</style>\n",
       "<table border=\"1\" class=\"dataframe\">\n",
       "  <thead>\n",
       "    <tr style=\"text-align: right;\">\n",
       "      <th></th>\n",
       "      <th>0</th>\n",
       "      <th>1</th>\n",
       "    </tr>\n",
       "  </thead>\n",
       "  <tbody>\n",
       "    <tr>\n",
       "      <th>0</th>\n",
       "      <td>1</td>\n",
       "      <td>32</td>\n",
       "    </tr>\n",
       "    <tr>\n",
       "      <th>1</th>\n",
       "      <td>1</td>\n",
       "      <td>22</td>\n",
       "    </tr>\n",
       "    <tr>\n",
       "      <th>2</th>\n",
       "      <td>1</td>\n",
       "      <td>20</td>\n",
       "    </tr>\n",
       "    <tr>\n",
       "      <th>3</th>\n",
       "      <td>1</td>\n",
       "      <td>18</td>\n",
       "    </tr>\n",
       "    <tr>\n",
       "      <th>4</th>\n",
       "      <td>1</td>\n",
       "      <td>14</td>\n",
       "    </tr>\n",
       "  </tbody>\n",
       "</table>\n",
       "</div>"
      ],
      "text/plain": [
       "   0   1\n",
       "0  1  32\n",
       "1  1  22\n",
       "2  1  20\n",
       "3  1  18\n",
       "4  1  14"
      ]
     },
     "execution_count": 29,
     "metadata": {},
     "output_type": "execute_result"
    }
   ],
   "source": [
    "# check first five rows of the dataframe\n",
    "edge_list.head()"
   ]
  },
  {
   "cell_type": "code",
   "execution_count": 30,
   "id": "australian-carol",
   "metadata": {
    "execution": {
     "iopub.execute_input": "2021-07-06T18:01:55.202694Z",
     "iopub.status.busy": "2021-07-06T18:01:55.202053Z",
     "iopub.status.idle": "2021-07-06T18:01:55.206231Z",
     "shell.execute_reply": "2021-07-06T18:01:55.206753Z",
     "shell.execute_reply.started": "2021-07-06T17:31:57.425135Z"
    },
    "id": "wgcZdnop_tF4",
    "papermill": {
     "duration": 0.087149,
     "end_time": "2021-07-06T18:01:55.206917",
     "exception": false,
     "start_time": "2021-07-06T18:01:55.119768",
     "status": "completed"
    },
    "tags": []
   },
   "outputs": [],
   "source": [
    "# rename columns of the dataframe\n",
    "edge_list.rename(columns = {0:'source', 1: 'target'}, inplace = True)"
   ]
  },
  {
   "cell_type": "code",
   "execution_count": 31,
   "id": "empirical-concert",
   "metadata": {
    "execution": {
     "iopub.execute_input": "2021-07-06T18:01:55.371738Z",
     "iopub.status.busy": "2021-07-06T18:01:55.371058Z",
     "iopub.status.idle": "2021-07-06T18:01:55.375067Z",
     "shell.execute_reply": "2021-07-06T18:01:55.375537Z",
     "shell.execute_reply.started": "2021-07-06T17:31:57.956179Z"
    },
    "id": "jILVV5WS_tF4",
    "outputId": "3e483505-3eeb-4c3d-89d6-e4e110322915",
    "papermill": {
     "duration": 0.087435,
     "end_time": "2021-07-06T18:01:55.375734",
     "exception": false,
     "start_time": "2021-07-06T18:01:55.288299",
     "status": "completed"
    },
    "tags": []
   },
   "outputs": [
    {
     "data": {
      "text/plain": [
       "(78, 2)"
      ]
     },
     "execution_count": 31,
     "metadata": {},
     "output_type": "execute_result"
    }
   ],
   "source": [
    "# check shape of the dataframe\n",
    "edge_list.shape"
   ]
  },
  {
   "cell_type": "code",
   "execution_count": 32,
   "id": "english-lender",
   "metadata": {
    "execution": {
     "iopub.execute_input": "2021-07-06T18:01:55.545033Z",
     "iopub.status.busy": "2021-07-06T18:01:55.544382Z",
     "iopub.status.idle": "2021-07-06T18:01:55.549026Z",
     "shell.execute_reply": "2021-07-06T18:01:55.549448Z",
     "shell.execute_reply.started": "2021-07-06T17:31:58.468592Z"
    },
    "id": "iJycpk0T_tF4",
    "papermill": {
     "duration": 0.088607,
     "end_time": "2021-07-06T18:01:55.549653",
     "exception": false,
     "start_time": "2021-07-06T18:01:55.461046",
     "status": "completed"
    },
    "tags": []
   },
   "outputs": [],
   "source": [
    "# create undirected graph from the edgelist\n",
    "G=nx.from_pandas_edgelist(edge_list, source='source', target='target', create_using=nx.Graph())"
   ]
  },
  {
   "cell_type": "code",
   "execution_count": 33,
   "id": "korean-multiple",
   "metadata": {
    "execution": {
     "iopub.execute_input": "2021-07-06T18:01:55.715147Z",
     "iopub.status.busy": "2021-07-06T18:01:55.714477Z",
     "iopub.status.idle": "2021-07-06T18:01:55.719776Z",
     "shell.execute_reply": "2021-07-06T18:01:55.719258Z",
     "shell.execute_reply.started": "2021-07-06T17:31:58.984575Z"
    },
    "id": "KphYo0US_tF4",
    "outputId": "5529ebf8-4271-4142-af07-78f69a56ed52",
    "papermill": {
     "duration": 0.088627,
     "end_time": "2021-07-06T18:01:55.719917",
     "exception": false,
     "start_time": "2021-07-06T18:01:55.631290",
     "status": "completed"
    },
    "tags": []
   },
   "outputs": [
    {
     "data": {
      "text/plain": [
       "'Name: \\nType: Graph\\nNumber of nodes: 34\\nNumber of edges: 77\\nAverage degree:   4.5294'"
      ]
     },
     "execution_count": 33,
     "metadata": {},
     "output_type": "execute_result"
    }
   ],
   "source": [
    "# check the basic properties of the graph\n",
    "nx.info(G)"
   ]
  },
  {
   "cell_type": "code",
   "execution_count": 34,
   "id": "proof-shakespeare",
   "metadata": {
    "execution": {
     "iopub.execute_input": "2021-07-06T18:01:55.886270Z",
     "iopub.status.busy": "2021-07-06T18:01:55.885455Z",
     "iopub.status.idle": "2021-07-06T18:01:55.889247Z",
     "shell.execute_reply": "2021-07-06T18:01:55.888748Z",
     "shell.execute_reply.started": "2021-07-06T17:31:59.471284Z"
    },
    "id": "VyfAPveQ_tF5",
    "outputId": "d0f3a247-29b1-45ba-85aa-296e52d64c54",
    "papermill": {
     "duration": 0.088659,
     "end_time": "2021-07-06T18:01:55.889378",
     "exception": false,
     "start_time": "2021-07-06T18:01:55.800719",
     "status": "completed"
    },
    "tags": []
   },
   "outputs": [
    {
     "data": {
      "text/plain": [
       "NodeView((1, 32, 22, 20, 18, 14, 13, 12, 11, 9, 8, 7, 6, 5, 4, 3, 2, 31, 10, 33, 29, 28, 17, 34, 15, 16, 19, 21, 23, 24, 30, 26, 25, 27))"
      ]
     },
     "execution_count": 34,
     "metadata": {},
     "output_type": "execute_result"
    }
   ],
   "source": [
    "# Get the names of the nodes\n",
    "G.nodes"
   ]
  },
  {
   "cell_type": "markdown",
   "id": "geological-junction",
   "metadata": {
    "id": "t1VA49sU_tF5",
    "papermill": {
     "duration": 0.079884,
     "end_time": "2021-07-06T18:01:56.049926",
     "exception": false,
     "start_time": "2021-07-06T18:01:55.970042",
     "status": "completed"
    },
    "tags": []
   },
   "source": [
    "# 2.1 Node2Vec Basics"
   ]
  },
  {
   "cell_type": "code",
   "execution_count": 35,
   "id": "square-chester",
   "metadata": {
    "execution": {
     "iopub.execute_input": "2021-07-06T18:01:56.242939Z",
     "iopub.status.busy": "2021-07-06T18:01:56.242199Z",
     "iopub.status.idle": "2021-07-06T18:02:06.638377Z",
     "shell.execute_reply": "2021-07-06T18:02:06.637564Z",
     "shell.execute_reply.started": "2021-07-06T17:32:01.921305Z"
    },
    "id": "JTYa2417_tF5",
    "outputId": "6e33d2b5-e993-41a4-86dd-81b62621d537",
    "papermill": {
     "duration": 10.508547,
     "end_time": "2021-07-06T18:02:06.638597",
     "exception": false,
     "start_time": "2021-07-06T18:01:56.130050",
     "status": "completed"
    },
    "tags": []
   },
   "outputs": [
    {
     "data": {
      "application/vnd.jupyter.widget-view+json": {
       "model_id": "b0305e1700484312a16e7424d936602c",
       "version_major": 2,
       "version_minor": 0
      },
      "text/plain": [
       "Computing transition probabilities:   0%|          | 0/34 [00:00<?, ?it/s]"
      ]
     },
     "metadata": {},
     "output_type": "display_data"
    }
   ],
   "source": [
    "# Precompute probabilities and generate walks - **ON WINDOWS ONLY WORKS WITH workers=1**\n",
    "node2vec = Node2Vec(G, dimensions=128, walk_length=40, num_walks=100, workers=2)"
   ]
  },
  {
   "cell_type": "code",
   "execution_count": 36,
   "id": "seasonal-deployment",
   "metadata": {
    "execution": {
     "iopub.execute_input": "2021-07-06T18:02:06.834897Z",
     "iopub.status.busy": "2021-07-06T18:02:06.829330Z",
     "iopub.status.idle": "2021-07-06T18:02:07.526080Z",
     "shell.execute_reply": "2021-07-06T18:02:07.525355Z",
     "shell.execute_reply.started": "2021-07-06T17:32:12.65428Z"
    },
    "id": "it-LFmTq_tF5",
    "papermill": {
     "duration": 0.800564,
     "end_time": "2021-07-06T18:02:07.526226",
     "exception": false,
     "start_time": "2021-07-06T18:02:06.725662",
     "status": "completed"
    },
    "tags": []
   },
   "outputs": [],
   "source": [
    "# Embed nodes\n",
    "model = node2vec.fit(window=10, min_count=1)"
   ]
  },
  {
   "cell_type": "markdown",
   "id": "sudden-pakistan",
   "metadata": {
    "id": "6PvfRWI7_tF5",
    "papermill": {
     "duration": 0.081468,
     "end_time": "2021-07-06T18:02:07.689443",
     "exception": false,
     "start_time": "2021-07-06T18:02:07.607975",
     "status": "completed"
    },
    "tags": []
   },
   "source": [
    "## Retreive the dimension of a particular node"
   ]
  },
  {
   "cell_type": "code",
   "execution_count": 37,
   "id": "thrown-header",
   "metadata": {
    "execution": {
     "iopub.execute_input": "2021-07-06T18:02:07.859851Z",
     "iopub.status.busy": "2021-07-06T18:02:07.859188Z",
     "iopub.status.idle": "2021-07-06T18:02:07.861880Z",
     "shell.execute_reply": "2021-07-06T18:02:07.862325Z",
     "shell.execute_reply.started": "2021-07-06T17:32:13.379278Z"
    },
    "id": "B_dixhNd_tF6",
    "outputId": "6684499f-3c54-44b9-9156-ea9fdde7e0e2",
    "papermill": {
     "duration": 0.091096,
     "end_time": "2021-07-06T18:02:07.862488",
     "exception": false,
     "start_time": "2021-07-06T18:02:07.771392",
     "status": "completed"
    },
    "tags": []
   },
   "outputs": [
    {
     "data": {
      "text/plain": [
       "array([ 0.02577361,  0.13097093,  0.10028297, -0.07990255, -0.05187919,\n",
       "       -0.07496994, -0.05749423,  0.07268036,  0.1110784 , -0.02245005,\n",
       "        0.15250291, -0.0280696 ,  0.08466129, -0.13887012, -0.0204826 ,\n",
       "        0.00811203,  0.00379535,  0.08023734, -0.0069318 ,  0.06370034,\n",
       "        0.00936789,  0.04306976,  0.12019809,  0.03519715, -0.19999692,\n",
       "        0.21765067, -0.02843375, -0.02440749,  0.08535719,  0.06520139,\n",
       "       -0.22438462,  0.03899153, -0.2533022 ,  0.08170288, -0.03117553,\n",
       "        0.06621175,  0.10554881,  0.19609101,  0.17065156, -0.17557998,\n",
       "       -0.03256113,  0.13863733, -0.02683056,  0.01062548,  0.13043758,\n",
       "        0.0032211 ,  0.01717834, -0.0982134 , -0.11395664, -0.07772214,\n",
       "        0.07469835, -0.16022192,  0.07564208,  0.09219234,  0.17602472,\n",
       "       -0.021694  ,  0.11540637,  0.0508487 , -0.10319234, -0.22715981,\n",
       "       -0.03257522, -0.03385786,  0.01842325, -0.07090285,  0.14760987,\n",
       "       -0.05463113, -0.02169513, -0.02233699,  0.09070348, -0.1948425 ,\n",
       "       -0.01388081,  0.00681715, -0.08263095, -0.04334154, -0.15503989,\n",
       "        0.09740099,  0.13436148,  0.09154595, -0.09314039,  0.08585899,\n",
       "       -0.09318724,  0.0488155 ,  0.07062092, -0.01016659,  0.01965508,\n",
       "       -0.04738625,  0.07383293, -0.08299847,  0.06589354,  0.10036182,\n",
       "       -0.08418643, -0.0820687 , -0.0904436 , -0.04667505,  0.09272046,\n",
       "       -0.03258064, -0.1220839 ,  0.00618762,  0.2695237 , -0.10717846,\n",
       "       -0.16355863, -0.12739033,  0.04912845, -0.03015505, -0.04621029,\n",
       "       -0.02665586, -0.08916261,  0.00546357, -0.08283538, -0.08111469,\n",
       "        0.03463533, -0.0278994 , -0.00464004,  0.05119746, -0.03128713,\n",
       "        0.06802811, -0.02908522,  0.04663784,  0.13470827,  0.10120942,\n",
       "        0.03602448, -0.08421722, -0.01233768, -0.07210428, -0.05489824,\n",
       "       -0.2258471 , -0.09263913, -0.03208111], dtype=float32)"
      ]
     },
     "execution_count": 37,
     "metadata": {},
     "output_type": "execute_result"
    }
   ],
   "source": [
    "# Get the vector of node '1'\n",
    "model.wv.get_vector('1')"
   ]
  },
  {
   "cell_type": "markdown",
   "id": "regulated-anniversary",
   "metadata": {
    "id": "bnyHbM5__tF6",
    "papermill": {
     "duration": 0.082061,
     "end_time": "2021-07-06T18:02:08.026428",
     "exception": false,
     "start_time": "2021-07-06T18:02:07.944367",
     "status": "completed"
    },
    "tags": []
   },
   "source": [
    "## Most similar nodes to a particular node"
   ]
  },
  {
   "cell_type": "code",
   "execution_count": 38,
   "id": "geographic-script",
   "metadata": {
    "execution": {
     "iopub.execute_input": "2021-07-06T18:02:08.193519Z",
     "iopub.status.busy": "2021-07-06T18:02:08.192939Z",
     "iopub.status.idle": "2021-07-06T18:02:08.207231Z",
     "shell.execute_reply": "2021-07-06T18:02:08.207903Z",
     "shell.execute_reply.started": "2021-07-06T17:41:38.455801Z"
    },
    "id": "rfgDwTd5_tF6",
    "outputId": "7266a402-3e62-4342-9176-498ea8dde261",
    "papermill": {
     "duration": 0.099601,
     "end_time": "2021-07-06T18:02:08.208140",
     "exception": false,
     "start_time": "2021-07-06T18:02:08.108539",
     "status": "completed"
    },
    "tags": []
   },
   "outputs": [
    {
     "name": "stdout",
     "output_type": "stream",
     "text": [
      "('11', 0.7820797562599182)\n",
      "('7', 0.780707597732544)\n",
      "('5', 0.7650891542434692)\n",
      "('12', 0.7636690735816956)\n",
      "('18', 0.7599439024925232)\n",
      "('6', 0.7547723650932312)\n",
      "('22', 0.6998350620269775)\n",
      "('13', 0.6826866865158081)\n",
      "('4', 0.6782787442207336)\n",
      "('17', 0.6778348088264465)\n"
     ]
    }
   ],
   "source": [
    "# most similar nodes to node '1'\n",
    "for node, _ in model.wv.most_similar('1'):\n",
    "    print((node, _))"
   ]
  },
  {
   "cell_type": "markdown",
   "id": "filled-artwork",
   "metadata": {
    "id": "SSK8zb2G_tF6",
    "papermill": {
     "duration": 0.081719,
     "end_time": "2021-07-06T18:02:08.374893",
     "exception": false,
     "start_time": "2021-07-06T18:02:08.293174",
     "status": "completed"
    },
    "tags": []
   },
   "source": [
    "## Verify the similar nodes using networkx graph"
   ]
  },
  {
   "cell_type": "code",
   "execution_count": 39,
   "id": "difficult-print",
   "metadata": {
    "execution": {
     "iopub.execute_input": "2021-07-06T18:02:08.541444Z",
     "iopub.status.busy": "2021-07-06T18:02:08.540477Z",
     "iopub.status.idle": "2021-07-06T18:02:08.736714Z",
     "shell.execute_reply": "2021-07-06T18:02:08.737187Z",
     "shell.execute_reply.started": "2021-07-06T17:32:42.951034Z"
    },
    "id": "OJRviddb_tF6",
    "outputId": "358eb8ea-91a4-4de8-e356-fdfa45b1dfa9",
    "papermill": {
     "duration": 0.280475,
     "end_time": "2021-07-06T18:02:08.737346",
     "exception": false,
     "start_time": "2021-07-06T18:02:08.456871",
     "status": "completed"
    },
    "tags": []
   },
   "outputs": [
    {
     "data": {
      "image/png": "[encoded data removed]",
      "text/plain": [
       "<Figure size 432x288 with 1 Axes>"
      ]
     },
     "metadata": {},
     "output_type": "display_data"
    }
   ],
   "source": [
    "# verify the most similar nodes generated by node2vec from the graph\n",
    "nx.draw_networkx(G)"
   ]
  },
  {
   "cell_type": "markdown",
   "id": "white-particular",
   "metadata": {
    "id": "5MRL95UJ_tF7",
    "papermill": {
     "duration": 0.081298,
     "end_time": "2021-07-06T18:02:08.900636",
     "exception": false,
     "start_time": "2021-07-06T18:02:08.819338",
     "status": "completed"
    },
    "tags": []
   },
   "source": [
    "## Save the embeddings and the trained model "
   ]
  },
  {
   "cell_type": "code",
   "execution_count": 40,
   "id": "federal-medication",
   "metadata": {
    "execution": {
     "iopub.execute_input": "2021-07-06T18:02:09.070840Z",
     "iopub.status.busy": "2021-07-06T18:02:09.069937Z",
     "iopub.status.idle": "2021-07-06T18:02:09.078410Z",
     "shell.execute_reply": "2021-07-06T18:02:09.078943Z",
     "shell.execute_reply.started": "2021-07-06T17:32:45.479263Z"
    },
    "id": "mnC9SpDU_tF7",
    "papermill": {
     "duration": 0.095871,
     "end_time": "2021-07-06T18:02:09.079122",
     "exception": false,
     "start_time": "2021-07-06T18:02:08.983251",
     "status": "completed"
    },
    "tags": []
   },
   "outputs": [],
   "source": [
    "# save the node embeddings\n",
    "model.wv.save_word2vec_format('embedding.csv')"
   ]
  },
  {
   "cell_type": "code",
   "execution_count": 41,
   "id": "delayed-prerequisite",
   "metadata": {
    "execution": {
     "iopub.execute_input": "2021-07-06T18:02:09.251070Z",
     "iopub.status.busy": "2021-07-06T18:02:09.250044Z",
     "iopub.status.idle": "2021-07-06T18:02:09.254143Z",
     "shell.execute_reply": "2021-07-06T18:02:09.254675Z",
     "shell.execute_reply.started": "2021-07-06T17:32:47.131855Z"
    },
    "id": "N8SlX26q_tF7",
    "papermill": {
     "duration": 0.092154,
     "end_time": "2021-07-06T18:02:09.254835",
     "exception": false,
     "start_time": "2021-07-06T18:02:09.162681",
     "status": "completed"
    },
    "tags": []
   },
   "outputs": [],
   "source": [
    "# save the model for later use (useful when node2Vec takes lots of time/memory to generate node embeddings)\n",
    "model.save('model')"
   ]
  },
  {
   "cell_type": "markdown",
   "id": "fossil-elite",
   "metadata": {
    "id": "DgGJXFir_tF8",
    "papermill": {
     "duration": 0.082408,
     "end_time": "2021-07-06T18:02:09.421426",
     "exception": false,
     "start_time": "2021-07-06T18:02:09.339018",
     "status": "completed"
    },
    "tags": []
   },
   "source": [
    "## Retreive all the nodes' embeddings"
   ]
  },
  {
   "cell_type": "code",
   "execution_count": 42,
   "id": "sorted-suffering",
   "metadata": {
    "execution": {
     "iopub.execute_input": "2021-07-06T18:02:09.594174Z",
     "iopub.status.busy": "2021-07-06T18:02:09.593499Z",
     "iopub.status.idle": "2021-07-06T18:02:09.595823Z",
     "shell.execute_reply": "2021-07-06T18:02:09.596366Z",
     "shell.execute_reply.started": "2021-07-06T17:33:02.699181Z"
    },
    "id": "lCp6Y881_tF8",
    "papermill": {
     "duration": 0.091794,
     "end_time": "2021-07-06T18:02:09.596596",
     "exception": false,
     "start_time": "2021-07-06T18:02:09.504802",
     "status": "completed"
    },
    "tags": []
   },
   "outputs": [],
   "source": [
    "# Retrieve node embeddings\n",
    "node_ids = model.wv.index_to_key  # list of node IDs\n",
    "node_embeddings = model.wv.vectors"
   ]
  },
  {
   "cell_type": "code",
   "execution_count": 43,
   "id": "forbidden-preparation",
   "metadata": {
    "execution": {
     "iopub.execute_input": "2021-07-06T18:02:09.769498Z",
     "iopub.status.busy": "2021-07-06T18:02:09.768864Z",
     "iopub.status.idle": "2021-07-06T18:02:09.776317Z",
     "shell.execute_reply": "2021-07-06T18:02:09.775450Z",
     "shell.execute_reply.started": "2021-07-06T17:33:04.881835Z"
    },
    "id": "OQongea6_tF8",
    "outputId": "9c44f431-e422-469a-af4b-eb7c94af0dca",
    "papermill": {
     "duration": 0.093875,
     "end_time": "2021-07-06T18:02:09.776507",
     "exception": false,
     "start_time": "2021-07-06T18:02:09.682632",
     "status": "completed"
    },
    "tags": []
   },
   "outputs": [
    {
     "name": "stdout",
     "output_type": "stream",
     "text": [
      "['34', '1', '33', '3', '2', '32', '4', '24', '14', '7', '6', '30', '28', '8', '9', '5', '11', '20', '25', '29', '31', '26', '17', '27', '18', '23', '13', '21', '19', '16', '15', '10', '22', '12']\n",
      "[[ 0.08442615 -0.0983702   0.08356661 ... -0.05818303 -0.02657141\n",
      "   0.08350533]\n",
      " [ 0.02577361  0.13097093  0.10028297 ... -0.2258471  -0.09263913\n",
      "  -0.03208111]\n",
      " [ 0.08589508 -0.07540712  0.0837869  ...  0.02771024 -0.07633106\n",
      "   0.12416778]\n",
      " ...\n",
      " [ 0.03544052  0.08873448  0.16724466 ... -0.15484624 -0.13415\n",
      "   0.1280353 ]\n",
      " [-0.02385182  0.04315604  0.0346602  ... -0.2847077   0.11066637\n",
      "  -0.1327758 ]\n",
      " [-0.00141191  0.08087809  0.04774344 ... -0.14461626  0.07504072\n",
      "   0.02060608]]\n"
     ]
    }
   ],
   "source": [
    "print(node_ids)\n",
    "print(node_embeddings)"
   ]
  },
  {
   "cell_type": "markdown",
   "id": "likely-halifax",
   "metadata": {
    "id": "bqDKe3AD_tF8",
    "papermill": {
     "duration": 0.085954,
     "end_time": "2021-07-06T18:02:09.949749",
     "exception": false,
     "start_time": "2021-07-06T18:02:09.863795",
     "status": "completed"
    },
    "tags": []
   },
   "source": [
    "# 2.2 Use case: Node embeddings for Clustering\n",
    "Embeddings can be used in various downstream tasks such as Classification, Link Prediction, etc."
   ]
  },
  {
   "cell_type": "markdown",
   "id": "utility-italian",
   "metadata": {
    "id": "Zr7rVucG_tF8",
    "papermill": {
     "duration": 0.086115,
     "end_time": "2021-07-06T18:02:10.122332",
     "exception": false,
     "start_time": "2021-07-06T18:02:10.036217",
     "status": "completed"
    },
    "tags": []
   },
   "source": [
    "### Reference: https://towardsdatascience.com/node2vec-embeddings-for-graph-data-32a866340fef\n",
    "### TSNE link -https://www.youtube.com/watch?v=NEaUSP4YerM&t=144s&ab_channel=StatQuestwithJoshStarmer"
   ]
  },
  {
   "cell_type": "code",
   "execution_count": 44,
   "id": "solid-logic",
   "metadata": {
    "execution": {
     "iopub.execute_input": "2021-07-06T18:02:10.300460Z",
     "iopub.status.busy": "2021-07-06T18:02:10.299442Z",
     "iopub.status.idle": "2021-07-06T18:02:16.819770Z",
     "shell.execute_reply": "2021-07-06T18:02:16.819220Z",
     "shell.execute_reply.started": "2021-07-06T17:33:11.777239Z"
    },
    "id": "zmz4E7L4_tF9",
    "papermill": {
     "duration": 6.610054,
     "end_time": "2021-07-06T18:02:16.819946",
     "exception": false,
     "start_time": "2021-07-06T18:02:10.209892",
     "status": "completed"
    },
    "tags": []
   },
   "outputs": [
    {
     "name": "stdout",
     "output_type": "stream",
     "text": [
      "Requirement already satisfied: text-unidecode in /opt/conda/lib/python3.7/site-packages (1.3)\r\n"
     ]
    }
   ],
   "source": [
    "!pip install text-unidecode\n",
    "#!pip install tsne"
   ]
  },
  {
   "cell_type": "code",
   "execution_count": 45,
   "id": "cubic-skirt",
   "metadata": {
    "execution": {
     "iopub.execute_input": "2021-07-06T18:02:16.995518Z",
     "iopub.status.busy": "2021-07-06T18:02:16.994863Z",
     "iopub.status.idle": "2021-07-06T18:02:17.189621Z",
     "shell.execute_reply": "2021-07-06T18:02:17.190189Z",
     "shell.execute_reply.started": "2021-07-06T17:52:15.827241Z"
    },
    "id": "J--o7waq_tF9",
    "papermill": {
     "duration": 0.285455,
     "end_time": "2021-07-06T18:02:17.190361",
     "exception": false,
     "start_time": "2021-07-06T18:02:16.904906",
     "status": "completed"
    },
    "tags": []
   },
   "outputs": [],
   "source": [
    "import warnings\n",
    "from text_unidecode import unidecode\n",
    "from collections import deque\n",
    "warnings.filterwarnings('ignore')\n",
    "from sklearn.manifold import TSNE\n",
    "import matplotlib.patches as mpatches\n",
    "import seaborn as sns\n",
    "\n",
    "sns.set_style('whitegrid')"
   ]
  },
  {
   "cell_type": "markdown",
   "id": "exclusive-interest",
   "metadata": {
    "id": "MRuMrB52_tF9",
    "papermill": {
     "duration": 0.08455,
     "end_time": "2021-07-06T18:02:17.359197",
     "exception": false,
     "start_time": "2021-07-06T18:02:17.274647",
     "status": "completed"
    },
    "tags": []
   },
   "source": [
    "## Load data "
   ]
  },
  {
   "cell_type": "code",
   "execution_count": 46,
   "id": "increased-virtue",
   "metadata": {
    "execution": {
     "iopub.execute_input": "2021-07-06T18:02:17.530206Z",
     "iopub.status.busy": "2021-07-06T18:02:17.529591Z",
     "iopub.status.idle": "2021-07-06T18:02:17.659193Z",
     "shell.execute_reply": "2021-07-06T18:02:17.658595Z",
     "shell.execute_reply.started": "2021-07-06T17:52:18.088215Z"
    },
    "id": "xPAUFc8F_tF9",
    "papermill": {
     "duration": 0.216614,
     "end_time": "2021-07-06T18:02:17.659335",
     "exception": false,
     "start_time": "2021-07-06T18:02:17.442721",
     "status": "completed"
    },
    "tags": []
   },
   "outputs": [],
   "source": [
    "data = pd.read_csv('../input/fifa2017/FullData.csv', usecols=['Name', 'Club', 'Club_Position', 'Rating'])"
   ]
  },
  {
   "cell_type": "markdown",
   "id": "aware-indonesia",
   "metadata": {
    "id": "9QQEeVt9_tF9",
    "papermill": {
     "duration": 0.082629,
     "end_time": "2021-07-06T18:02:17.825872",
     "exception": false,
     "start_time": "2021-07-06T18:02:17.743243",
     "status": "completed"
    },
    "tags": []
   },
   "source": [
    "## Pre-processing steps\n"
   ]
  },
  {
   "cell_type": "code",
   "execution_count": 47,
   "id": "focal-clarity",
   "metadata": {
    "execution": {
     "iopub.execute_input": "2021-07-06T18:02:18.001517Z",
     "iopub.status.busy": "2021-07-06T18:02:18.000508Z",
     "iopub.status.idle": "2021-07-06T18:02:18.186677Z",
     "shell.execute_reply": "2021-07-06T18:02:18.186156Z",
     "shell.execute_reply.started": "2021-07-06T17:52:19.21004Z"
    },
    "id": "CBl6_0K6_tF9",
    "outputId": "eb1eaa3a-5e63-4cf4-edf9-52a2160abae2",
    "papermill": {
     "duration": 0.280382,
     "end_time": "2021-07-06T18:02:18.186820",
     "exception": false,
     "start_time": "2021-07-06T18:02:17.906438",
     "status": "completed"
    },
    "tags": []
   },
   "outputs": [
    {
     "data": {
      "text/html": [
       "<div>\n",
       "<style scoped>\n",
       "    .dataframe tbody tr th:only-of-type {\n",
       "        vertical-align: middle;\n",
       "    }\n",
       "\n",
       "    .dataframe tbody tr th {\n",
       "        vertical-align: top;\n",
       "    }\n",
       "\n",
       "    .dataframe thead th {\n",
       "        text-align: right;\n",
       "    }\n",
       "</style>\n",
       "<table border=\"1\" class=\"dataframe\">\n",
       "  <thead>\n",
       "    <tr style=\"text-align: right;\">\n",
       "      <th></th>\n",
       "      <th>name</th>\n",
       "      <th>club</th>\n",
       "      <th>club_position</th>\n",
       "      <th>rating</th>\n",
       "    </tr>\n",
       "  </thead>\n",
       "  <tbody>\n",
       "    <tr>\n",
       "      <th>0</th>\n",
       "      <td>cristiano_ronaldo</td>\n",
       "      <td>real_madrid</td>\n",
       "      <td>lw</td>\n",
       "      <td>94</td>\n",
       "    </tr>\n",
       "    <tr>\n",
       "      <th>4</th>\n",
       "      <td>manuel_neuer</td>\n",
       "      <td>fc_bayern</td>\n",
       "      <td>gk</td>\n",
       "      <td>92</td>\n",
       "    </tr>\n",
       "    <tr>\n",
       "      <th>5</th>\n",
       "      <td>de_gea</td>\n",
       "      <td>manchester_utd</td>\n",
       "      <td>gk</td>\n",
       "      <td>90</td>\n",
       "    </tr>\n",
       "    <tr>\n",
       "      <th>6</th>\n",
       "      <td>robert_lewandowski</td>\n",
       "      <td>fc_bayern</td>\n",
       "      <td>st</td>\n",
       "      <td>90</td>\n",
       "    </tr>\n",
       "    <tr>\n",
       "      <th>7</th>\n",
       "      <td>gareth_bale</td>\n",
       "      <td>real_madrid</td>\n",
       "      <td>rw</td>\n",
       "      <td>90</td>\n",
       "    </tr>\n",
       "    <tr>\n",
       "      <th>...</th>\n",
       "      <td>...</td>\n",
       "      <td>...</td>\n",
       "      <td>...</td>\n",
       "      <td>...</td>\n",
       "    </tr>\n",
       "    <tr>\n",
       "      <th>615</th>\n",
       "      <td>marcos_alonso</td>\n",
       "      <td>chelsea</td>\n",
       "      <td>lwb</td>\n",
       "      <td>79</td>\n",
       "    </tr>\n",
       "    <tr>\n",
       "      <th>687</th>\n",
       "      <td>gael_clichy</td>\n",
       "      <td>manchester_city</td>\n",
       "      <td>lb</td>\n",
       "      <td>79</td>\n",
       "    </tr>\n",
       "    <tr>\n",
       "      <th>850</th>\n",
       "      <td>victor_moses</td>\n",
       "      <td>chelsea</td>\n",
       "      <td>rwb</td>\n",
       "      <td>78</td>\n",
       "    </tr>\n",
       "    <tr>\n",
       "      <th>892</th>\n",
       "      <td>willy_caballero</td>\n",
       "      <td>manchester_city</td>\n",
       "      <td>gk</td>\n",
       "      <td>78</td>\n",
       "    </tr>\n",
       "    <tr>\n",
       "      <th>1206</th>\n",
       "      <td>amadou_diawara</td>\n",
       "      <td>napoli</td>\n",
       "      <td>cm</td>\n",
       "      <td>76</td>\n",
       "    </tr>\n",
       "  </tbody>\n",
       "</table>\n",
       "<p>77 rows × 4 columns</p>\n",
       "</div>"
      ],
      "text/plain": [
       "                    name             club club_position  rating\n",
       "0      cristiano_ronaldo      real_madrid            lw      94\n",
       "4           manuel_neuer        fc_bayern            gk      92\n",
       "5                 de_gea   manchester_utd            gk      90\n",
       "6     robert_lewandowski        fc_bayern            st      90\n",
       "7            gareth_bale      real_madrid            rw      90\n",
       "...                  ...              ...           ...     ...\n",
       "615        marcos_alonso          chelsea           lwb      79\n",
       "687          gael_clichy  manchester_city            lb      79\n",
       "850         victor_moses          chelsea           rwb      78\n",
       "892      willy_caballero  manchester_city            gk      78\n",
       "1206      amadou_diawara           napoli            cm      76\n",
       "\n",
       "[77 rows x 4 columns]"
      ]
     },
     "execution_count": 47,
     "metadata": {},
     "output_type": "execute_result"
    }
   ],
   "source": [
    "# Lowercase columns for convenience\n",
    "data.columns = list(map(str.lower, data.columns))\n",
    "\n",
    "# Reformat strings: lowercase, ' ' -> '_' and é, ô etc. -> e, o\n",
    "reformat_string = lambda x: unidecode(str.lower(x).replace(' ', '_'))\n",
    "    \n",
    "data['name'] = data['name'].apply(reformat_string)\n",
    "data['club'] = data['club'].apply(reformat_string)\n",
    "\n",
    "# Lowercase position\n",
    "data['club_position'] = data['club_position'].str.lower()\n",
    "\n",
    "# Ignore substitutes and reserves \n",
    "data = data[(data['club_position'] != 'sub') & (data['club_position'] != 'res')]\n",
    "\n",
    "# Fix lcm rcm -> cm cm\n",
    "fix_positions = {'rcm' : 'cm', 'lcm': 'cm', 'rcb': 'cb', 'lcb': 'cb', 'ldm': 'cdm', 'rdm': 'cdm'}\n",
    "data['club_position'] = data['club_position'].apply(lambda x: fix_positions.get(x, x))\n",
    "\n",
    "# For example sake we will keep only 7 clubs\n",
    "clubs = {'real_madrid', 'manchester_utd', \n",
    "         'manchester_city', 'chelsea', 'juventus', \n",
    "         'fc_bayern', 'napoli'}\n",
    "\n",
    "data = data[data['club'].isin(clubs)]\n",
    "\n",
    "\n",
    "# Verify we have 11 player for each team\n",
    "assert all(n_players == 11 for n_players in data.groupby('club')['name'].nunique())\n",
    "\n",
    "data"
   ]
  },
  {
   "cell_type": "markdown",
   "id": "pending-allocation",
   "metadata": {
    "id": "GsrMfnWd_tF-",
    "papermill": {
     "duration": 0.085612,
     "end_time": "2021-07-06T18:02:18.357678",
     "exception": false,
     "start_time": "2021-07-06T18:02:18.272066",
     "status": "completed"
    },
    "tags": []
   },
   "source": [
    "## Formations of the teams"
   ]
  },
  {
   "cell_type": "code",
   "execution_count": 48,
   "id": "measured-dominant",
   "metadata": {
    "execution": {
     "iopub.execute_input": "2021-07-06T18:02:18.547376Z",
     "iopub.status.busy": "2021-07-06T18:02:18.542562Z",
     "iopub.status.idle": "2021-07-06T18:02:18.549389Z",
     "shell.execute_reply": "2021-07-06T18:02:18.549872Z",
     "shell.execute_reply.started": "2021-07-06T17:52:20.343126Z"
    },
    "id": "T7We61F7_tF-",
    "papermill": {
     "duration": 0.106214,
     "end_time": "2021-07-06T18:02:18.550055",
     "exception": false,
     "start_time": "2021-07-06T18:02:18.443841",
     "status": "completed"
    },
    "tags": []
   },
   "outputs": [],
   "source": [
    "FORMATIONS = {'4-3-3_4': {'gk': ['cb_1', 'cb_2'],                           # Real madrid\n",
    "                          'lb': ['lw', 'cb_1', 'cm_1'],\n",
    "                          'cb_1': ['lb', 'cb_2', 'gk'],\n",
    "                          'cb_2': ['rb', 'cb_1', 'gk'],\n",
    "                          'rb': ['rw', 'cb_2', 'cm_2'],\n",
    "                          'cm_1': ['cam', 'lw', 'cb_1', 'lb'],\n",
    "                          'cm_2': ['cam', 'rw', 'cb_2', 'rb'],\n",
    "                          'cam': ['cm_1', 'cm_2', 'st'],\n",
    "                          'lw': ['cm_1', 'lb', 'st'],\n",
    "                          'rw': ['cm_2', 'rb', 'st'],\n",
    "                          'st': ['cam', 'lw', 'rw']},\n",
    "              '5-2-2-1': {'gk': ['cb_1', 'cb_2', 'cb_3'],                   # Chelsea\n",
    "                          'cb_1': ['gk', 'cb_2', 'lwb'],\n",
    "                          'cb_2': ['gk', 'cb_1', 'cb_3', 'cm_1', 'cb_2'],\n",
    "                          'cb_3': ['gk', 'cb_2', 'rwb'],\n",
    "                          'lwb': ['cb_1', 'cm_1', 'lw'],\n",
    "                          'cm_1': ['lwb', 'cb_2', 'cm_2', 'lw', 'st'],\n",
    "                          'cm_2': ['rwb', 'cb_2', 'cm_1', 'rw', 'st'],\n",
    "                          'rwb': ['cb_3', 'cm_2', 'rw'],\n",
    "                          'lw': ['lwb', 'cm_1', 'st'],\n",
    "                          'st': ['lw', 'cm_1', 'cm_2', 'rw'],\n",
    "                          'rw': ['st', 'rwb', 'cm_2']},\n",
    "              '4-3-3_2': {'gk': ['cb_1', 'cb_2'],                           # Man UTD / CITY\n",
    "                          'lb': ['cb_1', 'cm_1'],\n",
    "                          'cb_1': ['lb', 'cb_2', 'gk', 'cdm'],\n",
    "                          'cb_2': ['rb', 'cb_1', 'gk', 'cdm'],\n",
    "                          'rb': ['cb_2', 'cm_2'],\n",
    "                          'cm_1': ['cdm', 'lw', 'lb', 'st'],\n",
    "                          'cm_2': ['cdm', 'rw', 'st', 'rb'],\n",
    "                          'cdm': ['cm_1', 'cm_2', 'cb_1', 'cb_2'],\n",
    "                          'lw': ['cm_1', 'st'],\n",
    "                          'rw': ['cm_2', 'st'],\n",
    "                          'st': ['cm_1', 'cm_2', 'lw', 'rw']},              # Juventus, Bayern\n",
    "                            '4-2-3-1_2': {'gk': ['cb_1', 'cb_2'],\n",
    "                            'lb': ['lm', 'cdm_1', 'cb_1'],\n",
    "                            'cb_1': ['lb', 'cdm_1', 'gk', 'cb_2'],\n",
    "                            'cb_2': ['rb', 'cdm_2', 'gk', 'cb_1'],\n",
    "                            'rb': ['cb_2', 'rm', 'cdm_2'],\n",
    "                            'lm': ['lb', 'cdm_1', 'st', 'cam'],\n",
    "                            'rm': ['rb', 'cdm_2', 'st', 'cam'],\n",
    "                            'cdm_1': ['lm', 'cb_1', 'rb', 'cam'],\n",
    "                            'cdm_2': ['rm', 'cb_2', 'lb', 'cam'],\n",
    "                            'cam': ['cdm_1', 'cdm_2', 'rm', 'lm', 'st'],\n",
    "                            'st': ['lm', 'rm', 'cam']},\n",
    "              '4-3-3': {'gk': ['cb_1', 'cb_2'],                             # Napoli\n",
    "                        'lb': ['cb_1', 'cm_1'],\n",
    "                        'cb_1': ['lb', 'cb_2', 'gk', 'cm_2'],\n",
    "                        'cb_2': ['rb', 'cb_1', 'gk', 'cm_2'],\n",
    "                        'rb': ['cb_2', 'cm_3'],\n",
    "                        'cm_1': ['cm_2', 'lw', 'lb'],\n",
    "                        'cm_3': ['cm_2', 'rw', 'rb'],\n",
    "                        'cm_2': ['cm_1', 'cm_3', 'st', 'cb_1', 'cb_2'],\n",
    "                        'lw': ['cm_1', 'st'],\n",
    "                        'rw': ['cm_3', 'st'],\n",
    "                        'st': ['cm_2', 'lw', 'rw']}}"
   ]
  },
  {
   "cell_type": "markdown",
   "id": "informed-munich",
   "metadata": {
    "id": "RW8fleZd_tF-",
    "papermill": {
     "duration": 0.084059,
     "end_time": "2021-07-06T18:02:18.719196",
     "exception": false,
     "start_time": "2021-07-06T18:02:18.635137",
     "status": "completed"
    },
    "tags": []
   },
   "source": [
    "## Creation of graph"
   ]
  },
  {
   "cell_type": "code",
   "execution_count": 49,
   "id": "inclusive-newport",
   "metadata": {
    "execution": {
     "iopub.execute_input": "2021-07-06T18:02:18.891590Z",
     "iopub.status.busy": "2021-07-06T18:02:18.890891Z",
     "iopub.status.idle": "2021-07-06T18:02:18.901324Z",
     "shell.execute_reply": "2021-07-06T18:02:18.901830Z",
     "shell.execute_reply.started": "2021-07-06T17:52:21.454535Z"
    },
    "id": "4U5NTiyV_tF_",
    "papermill": {
     "duration": 0.098263,
     "end_time": "2021-07-06T18:02:18.902018",
     "exception": false,
     "start_time": "2021-07-06T18:02:18.803755",
     "status": "completed"
    },
    "tags": []
   },
   "outputs": [],
   "source": [
    "add_club_suffix = lambda x, c: x + '_{}'.format(c)\n",
    "\n",
    "graph = nx.Graph()\n",
    "formatted_positions = set()\n",
    "\n",
    "def club2graph(club_name, formation, graph):\n",
    "    club_data = data[data['club'] == club_name]\n",
    "    \n",
    "    club_formation = FORMATIONS[formation]\n",
    "    \n",
    "    club_positions = dict()\n",
    "    \n",
    "    # Assign positions to players\n",
    "    available_positions = deque(club_formation)\n",
    "    available_players = set(zip(club_data['name'], club_data['club_position']))\n",
    "    \n",
    "    roster = dict()  # Here we will store the assigned players and positions\n",
    "    \n",
    "    while available_positions:\n",
    "        position = available_positions.pop()\n",
    "        name, pos = [(name, position) for name, p in available_players if position.startswith(p)][0]        \n",
    "        \n",
    "        roster[name] = pos\n",
    "        \n",
    "        available_players.remove((name, pos.split('_')[0]))\n",
    "        \n",
    "    reverse_roster = {v: k for k, v in roster.items()}\n",
    "    # Build the graph\n",
    "    for name, position in roster.items():\n",
    "        # Connect to team name\n",
    "        graph.add_edge(name, club_name)\n",
    "        \n",
    "        # Inter team connections\n",
    "        for teammate_position in club_formation[position]:\n",
    "            # Connect positions\n",
    "            graph.add_edge(add_club_suffix(position, club_name),\n",
    "                           add_club_suffix(teammate_position, club_name))\n",
    "            \n",
    "            # Connect player to teammate positions\n",
    "            graph.add_edge(name,\n",
    "                           add_club_suffix(teammate_position, club_name))\n",
    "            \n",
    "            # Connect player to teammates\n",
    "            graph.add_edge(name, reverse_roster[teammate_position])\n",
    "            \n",
    "            # Save for later trimming\n",
    "            formatted_positions.add(add_club_suffix(position, club_name))\n",
    "            formatted_positions.add(add_club_suffix(teammate_position, club_name))\n",
    "            \n",
    "    return graph"
   ]
  },
  {
   "cell_type": "markdown",
   "id": "excess-pillow",
   "metadata": {
    "id": "b_7ZWZkP_tGB",
    "papermill": {
     "duration": 0.083989,
     "end_time": "2021-07-06T18:02:19.070413",
     "exception": false,
     "start_time": "2021-07-06T18:02:18.986424",
     "status": "completed"
    },
    "tags": []
   },
   "source": [
    "### Teams Mapping"
   ]
  },
  {
   "cell_type": "code",
   "execution_count": 50,
   "id": "exotic-street",
   "metadata": {
    "execution": {
     "iopub.execute_input": "2021-07-06T18:02:19.243325Z",
     "iopub.status.busy": "2021-07-06T18:02:19.242637Z",
     "iopub.status.idle": "2021-07-06T18:02:19.246730Z",
     "shell.execute_reply": "2021-07-06T18:02:19.247304Z",
     "shell.execute_reply.started": "2021-07-06T17:52:39.94864Z"
    },
    "id": "-DGqSUIl_tGB",
    "papermill": {
     "duration": 0.091972,
     "end_time": "2021-07-06T18:02:19.247490",
     "exception": false,
     "start_time": "2021-07-06T18:02:19.155518",
     "status": "completed"
    },
    "tags": []
   },
   "outputs": [],
   "source": [
    "teams = [('real_madrid', '4-3-3_4'), \n",
    "         ('chelsea', '5-2-2-1'),\n",
    "         ('manchester_utd', '4-3-3_2'),\n",
    "         ('manchester_city', '4-3-3_2'),\n",
    "         ('juventus', '4-2-3-1_2'),\n",
    "         ('fc_bayern', '4-2-3-1_2'),\n",
    "         ('napoli', '4-3-3')]"
   ]
  },
  {
   "cell_type": "code",
   "execution_count": 51,
   "id": "nonprofit-spell",
   "metadata": {
    "execution": {
     "iopub.execute_input": "2021-07-06T18:02:19.420519Z",
     "iopub.status.busy": "2021-07-06T18:02:19.419894Z",
     "iopub.status.idle": "2021-07-06T18:02:19.424656Z",
     "shell.execute_reply": "2021-07-06T18:02:19.425197Z",
     "shell.execute_reply.started": "2021-07-06T17:52:40.462957Z"
    },
    "id": "gGwCOm_L_tGB",
    "papermill": {
     "duration": 0.092354,
     "end_time": "2021-07-06T18:02:19.425360",
     "exception": false,
     "start_time": "2021-07-06T18:02:19.333006",
     "status": "completed"
    },
    "tags": []
   },
   "outputs": [],
   "source": [
    "# create graph for a specific team\n",
    "graph = club2graph('real_madrid', '4-3-3_4', graph)"
   ]
  },
  {
   "cell_type": "code",
   "execution_count": 52,
   "id": "literary-wireless",
   "metadata": {
    "execution": {
     "iopub.execute_input": "2021-07-06T18:02:19.599915Z",
     "iopub.status.busy": "2021-07-06T18:02:19.599233Z",
     "iopub.status.idle": "2021-07-06T18:02:19.610463Z",
     "shell.execute_reply": "2021-07-06T18:02:19.611033Z",
     "shell.execute_reply.started": "2021-07-06T17:52:42.445316Z"
    },
    "id": "ffWKe95F_tGB",
    "papermill": {
     "duration": 0.100554,
     "end_time": "2021-07-06T18:02:19.611214",
     "exception": false,
     "start_time": "2021-07-06T18:02:19.510660",
     "status": "completed"
    },
    "tags": []
   },
   "outputs": [],
   "source": [
    "# 7 graphs (each for team)\n",
    "for team, formation in teams:\n",
    "    graph = club2graph(team, formation, graph)"
   ]
  },
  {
   "cell_type": "markdown",
   "id": "defensive-switzerland",
   "metadata": {
    "id": "2-XMREt6_tGB",
    "papermill": {
     "duration": 0.082023,
     "end_time": "2021-07-06T18:02:19.777868",
     "exception": false,
     "start_time": "2021-07-06T18:02:19.695845",
     "status": "completed"
    },
    "tags": []
   },
   "source": [
    "### Node2Vec"
   ]
  },
  {
   "cell_type": "code",
   "execution_count": 53,
   "id": "sapphire-division",
   "metadata": {
    "execution": {
     "iopub.execute_input": "2021-07-06T18:02:19.944073Z",
     "iopub.status.busy": "2021-07-06T18:02:19.943513Z",
     "iopub.status.idle": "2021-07-06T18:02:27.455025Z",
     "shell.execute_reply": "2021-07-06T18:02:27.454451Z",
     "shell.execute_reply.started": "2021-07-06T17:52:44.295921Z"
    },
    "id": "l3TzfbKh_tGB",
    "outputId": "4125fad4-393d-4aae-a04b-ee13a4ec63f9",
    "papermill": {
     "duration": 7.596611,
     "end_time": "2021-07-06T18:02:27.455176",
     "exception": false,
     "start_time": "2021-07-06T18:02:19.858565",
     "status": "completed"
    },
    "tags": []
   },
   "outputs": [
    {
     "data": {
      "application/vnd.jupyter.widget-view+json": {
       "model_id": "b308ef49001542099a12977b7d42332c",
       "version_major": 2,
       "version_minor": 0
      },
      "text/plain": [
       "Computing transition probabilities:   0%|          | 0/161 [00:00<?, ?it/s]"
      ]
     },
     "metadata": {},
     "output_type": "display_data"
    }
   ],
   "source": [
    "node2vec = Node2Vec(graph, dimensions=20, walk_length=16, num_walks=100, workers=2)"
   ]
  },
  {
   "cell_type": "markdown",
   "id": "usual-emperor",
   "metadata": {
    "papermill": {
     "duration": 0.084688,
     "end_time": "2021-07-06T18:02:27.625508",
     "exception": false,
     "start_time": "2021-07-06T18:02:27.540820",
     "status": "completed"
    },
    "tags": []
   },
   "source": [
    "## Most similar nodes"
   ]
  },
  {
   "cell_type": "code",
   "execution_count": 54,
   "id": "mediterranean-vulnerability",
   "metadata": {
    "execution": {
     "iopub.execute_input": "2021-07-06T18:02:27.829509Z",
     "iopub.status.busy": "2021-07-06T18:02:27.824505Z",
     "iopub.status.idle": "2021-07-06T18:02:29.486279Z",
     "shell.execute_reply": "2021-07-06T18:02:29.485709Z",
     "shell.execute_reply.started": "2021-07-06T17:57:38.383674Z"
    },
    "id": "SsUlUMIK_tGC",
    "papermill": {
     "duration": 1.776309,
     "end_time": "2021-07-06T18:02:29.486411",
     "exception": false,
     "start_time": "2021-07-06T18:02:27.710102",
     "status": "completed"
    },
    "tags": []
   },
   "outputs": [],
   "source": [
    "fix_formatted_positions = lambda x: x.split('_')[0] if x in formatted_positions else x\n",
    "reformatted_walks = [list(map(fix_formatted_positions, walk)) for walk in node2vec.walks]\n",
    "node2vec.walks = reformatted_walks\n",
    "# Learn embeddings \n",
    "model = node2vec.fit(window=10, min_count=1)"
   ]
  },
  {
   "cell_type": "code",
   "execution_count": 55,
   "id": "mature-madrid",
   "metadata": {
    "execution": {
     "iopub.execute_input": "2021-07-06T18:02:29.660479Z",
     "iopub.status.busy": "2021-07-06T18:02:29.659863Z",
     "iopub.status.idle": "2021-07-06T18:02:29.666719Z",
     "shell.execute_reply": "2021-07-06T18:02:29.667372Z",
     "shell.execute_reply.started": "2021-07-06T17:57:41.177274Z"
    },
    "id": "b7BU903W_tGD",
    "outputId": "8a08c121-9d37-4865-ddca-b565a69fd3d4",
    "papermill": {
     "duration": 0.095511,
     "end_time": "2021-07-06T18:02:29.667613",
     "exception": false,
     "start_time": "2021-07-06T18:02:29.572102",
     "status": "completed"
    },
    "tags": []
   },
   "outputs": [
    {
     "name": "stdout",
     "output_type": "stream",
     "text": [
      "luka_modric\n",
      "toni_kroos\n",
      "james_rodriguez\n",
      "pepe\n",
      "sergio_ramos\n",
      "carvajal\n",
      "gareth_bale\n",
      "marcelo\n",
      "cristiano_ronaldo\n",
      "karim_benzema\n"
     ]
    }
   ],
   "source": [
    "for node, _ in model.wv.most_similar('real_madrid'):\n",
    "    print(node)"
   ]
  },
  {
   "cell_type": "code",
   "execution_count": 56,
   "id": "bottom-vatican",
   "metadata": {
    "execution": {
     "iopub.execute_input": "2021-07-06T18:02:29.846685Z",
     "iopub.status.busy": "2021-07-06T18:02:29.845633Z",
     "iopub.status.idle": "2021-07-06T18:02:29.851393Z",
     "shell.execute_reply": "2021-07-06T18:02:29.850861Z",
     "shell.execute_reply.started": "2021-07-06T17:57:46.749821Z"
    },
    "id": "graNny3C_tGD",
    "outputId": "b37a4781-d22c-4386-ec69-ae07f0219d6e",
    "papermill": {
     "duration": 0.095787,
     "end_time": "2021-07-06T18:02:29.851556",
     "exception": false,
     "start_time": "2021-07-06T18:02:29.755769",
     "status": "completed"
    },
    "tags": []
   },
   "outputs": [
    {
     "name": "stdout",
     "output_type": "stream",
     "text": [
      "gonzalo_higuain\n",
      "juventus\n",
      "mario_mandzukic\n",
      "alex_sandro\n",
      "juan_cuadrado\n",
      "stephan_lichtsteiner\n",
      "miralem_pjanic\n",
      "sami_khedira\n",
      "giorgio_chiellini\n",
      "gianluigi_buffon\n"
     ]
    }
   ],
   "source": [
    "for node, _ in model.wv.most_similar('paulo_dybala'):\n",
    "    print(node)"
   ]
  },
  {
   "cell_type": "markdown",
   "id": "continental-tokyo",
   "metadata": {
    "id": "n4JmRghO_tGD",
    "papermill": {
     "duration": 0.085868,
     "end_time": "2021-07-06T18:02:30.024008",
     "exception": false,
     "start_time": "2021-07-06T18:02:29.938140",
     "status": "completed"
    },
    "tags": []
   },
   "source": [
    "## Visualization of the teams"
   ]
  },
  {
   "cell_type": "code",
   "execution_count": 57,
   "id": "increasing-israel",
   "metadata": {
    "execution": {
     "iopub.execute_input": "2021-07-06T18:02:30.201354Z",
     "iopub.status.busy": "2021-07-06T18:02:30.200348Z",
     "iopub.status.idle": "2021-07-06T18:02:30.205514Z",
     "shell.execute_reply": "2021-07-06T18:02:30.206090Z",
     "shell.execute_reply.started": "2021-07-06T17:57:48.791879Z"
    },
    "id": "2cljYgZy_tGD",
    "papermill": {
     "duration": 0.096648,
     "end_time": "2021-07-06T18:02:30.206253",
     "exception": false,
     "start_time": "2021-07-06T18:02:30.109605",
     "status": "completed"
    },
    "tags": []
   },
   "outputs": [],
   "source": [
    "player_nodes = [x for x in model.wv.key_to_index if len(x) > 3 and x not in clubs]\n",
    "embeddings = np.array([model.wv[x] for x in player_nodes])"
   ]
  },
  {
   "cell_type": "code",
   "execution_count": 58,
   "id": "turkish-sierra",
   "metadata": {
    "execution": {
     "iopub.execute_input": "2021-07-06T18:02:30.383933Z",
     "iopub.status.busy": "2021-07-06T18:02:30.382947Z",
     "iopub.status.idle": "2021-07-06T18:02:30.743319Z",
     "shell.execute_reply": "2021-07-06T18:02:30.743911Z",
     "shell.execute_reply.started": "2021-07-06T17:57:49.6006Z"
    },
    "id": "w5TYKxBN_tGD",
    "papermill": {
     "duration": 0.451639,
     "end_time": "2021-07-06T18:02:30.744110",
     "exception": false,
     "start_time": "2021-07-06T18:02:30.292471",
     "status": "completed"
    },
    "tags": []
   },
   "outputs": [],
   "source": [
    "tsne = TSNE(n_components=2, random_state=7, perplexity=15)\n",
    "embeddings_2d = tsne.fit_transform(embeddings)"
   ]
  },
  {
   "cell_type": "code",
   "execution_count": 59,
   "id": "preliminary-paste",
   "metadata": {
    "execution": {
     "iopub.execute_input": "2021-07-06T18:02:30.926665Z",
     "iopub.status.busy": "2021-07-06T18:02:30.925988Z",
     "iopub.status.idle": "2021-07-06T18:02:30.929113Z",
     "shell.execute_reply": "2021-07-06T18:02:30.928613Z",
     "shell.execute_reply.started": "2021-07-06T17:57:51.783337Z"
    },
    "id": "ccNUsaKk_tGD",
    "papermill": {
     "duration": 0.096914,
     "end_time": "2021-07-06T18:02:30.929244",
     "exception": false,
     "start_time": "2021-07-06T18:02:30.832330",
     "status": "completed"
    },
    "tags": []
   },
   "outputs": [],
   "source": [
    "# Assign colors to players\n",
    "team_colors = {\n",
    "    'real_madrid': 'lightblue',\n",
    "    'chelsea': 'b',\n",
    "    'manchester_utd': 'r',\n",
    "    'manchester_city': 'teal',\n",
    "    'juventus': 'gainsboro',\n",
    "    'napoli': 'deepskyblue',\n",
    "    'fc_bayern': 'tomato' \n",
    "}\n",
    "\n",
    "data['color'] = data['club'].apply(lambda x: team_colors[x])\n",
    "player_colors = dict(zip(data['name'], data['color']))\n",
    "colors = [player_colors[x] for x in player_nodes]"
   ]
  },
  {
   "cell_type": "code",
   "execution_count": 60,
   "id": "chemical-closure",
   "metadata": {
    "execution": {
     "iopub.execute_input": "2021-07-06T18:02:31.156905Z",
     "iopub.status.busy": "2021-07-06T18:02:31.129202Z",
     "iopub.status.idle": "2021-07-06T18:02:31.355811Z",
     "shell.execute_reply": "2021-07-06T18:02:31.355281Z",
     "shell.execute_reply.started": "2021-07-06T17:57:52.639972Z"
    },
    "id": "cEA5m0Sa_tGE",
    "outputId": "131e2254-92c4-48c1-fa98-223ae9fcb9bf",
    "papermill": {
     "duration": 0.339828,
     "end_time": "2021-07-06T18:02:31.355954",
     "exception": false,
     "start_time": "2021-07-06T18:02:31.016126",
     "status": "completed"
    },
    "tags": []
   },
   "outputs": [
    {
     "data": {
      "image/png": "[encoded data removed]",
      "text/plain": [
       "<Figure size 792x648 with 1 Axes>"
      ]
     },
     "metadata": {},
     "output_type": "display_data"
    }
   ],
   "source": [
    "figure = plt.figure(figsize=(11, 9))\n",
    "\n",
    "ax = figure.add_subplot(111)\n",
    "\n",
    "ax.scatter(embeddings_2d[:, 0], embeddings_2d[:, 1], c=colors)\n",
    "\n",
    "# Create team patches for legend\n",
    "team_patches = [mpatches.Patch(color=color, label=team) for team, color in team_colors.items()]\n",
    "ax.legend(handles=team_patches);"
   ]
  }
 ],
 "metadata": {
  "kernelspec": {
   "display_name": "Python 3",
   "language": "python",
   "name": "python3"
  },
  "language_info": {
   "codemirror_mode": {
    "name": "ipython",
    "version": 3
   },
   "file_extension": ".py",
   "mimetype": "text/x-python",
   "name": "python",
   "nbconvert_exporter": "python",
   "pygments_lexer": "ipython3",
   "version": "3.7.10"
  },
  "papermill": {
   "default_parameters": {},
   "duration": 84.943193,
   "end_time": "2021-07-06T18:02:33.342989",
   "environment_variables": {},
   "exception": null,
   "input_path": "__notebook__.ipynb",
   "output_path": "__notebook__.ipynb",
   "parameters": {},
   "start_time": "2021-07-06T18:01:08.399796",
   "version": "2.3.3"
  },
  "widgets": {
   "application/vnd.jupyter.widget-state+json": {
    "state": {
     "01e86df0aa804944b9d7c5df44a7bdee": {
      "model_module": "@jupyter-widgets/controls",
      "model_module_version": "1.5.0",
      "model_name": "DescriptionStyleModel",
      "state": {
       "_model_module": "@jupyter-widgets/controls",
       "_model_module_version": "1.5.0",
       "_model_name": "DescriptionStyleModel",
       "_view_count": null,
       "_view_module": "@jupyter-widgets/base",
       "_view_module_version": "1.2.0",
       "_view_name": "StyleView",
       "description_width": ""
      }
     },
     "06f19618cbbd4845bf97ef7ee713b853": {
      "model_module": "@jupyter-widgets/base",
      "model_module_version": "1.2.0",
      "model_name": "LayoutModel",
      "state": {
       "_model_module": "@jupyter-widgets/base",
       "_model_module_version": "1.2.0",
       "_model_name": "LayoutModel",
       "_view_count": null,
       "_view_module": "@jupyter-widgets/base",
       "_view_module_version": "1.2.0",
       "_view_name": "LayoutView",
       "align_content": null,
       "align_items": null,
       "align_self": null,
       "border": null,
       "bottom": null,
       "display": null,
       "flex": null,
       "flex_flow": null,
       "grid_area": null,
       "grid_auto_columns": null,
       "grid_auto_flow": null,
       "grid_auto_rows": null,
       "grid_column": null,
       "grid_gap": null,
       "grid_row": null,
       "grid_template_areas": null,
       "grid_template_columns": null,
       "grid_template_rows": null,
       "height": null,
       "justify_content": null,
       "justify_items": null,
       "left": null,
       "margin": null,
       "max_height": null,
       "max_width": null,
       "min_height": null,
       "min_width": null,
       "object_fit": null,
       "object_position": null,
       "order": null,
       "overflow": null,
       "overflow_x": null,
       "overflow_y": null,
       "padding": null,
       "right": null,
       "top": null,
       "visibility": null,
       "width": null
      }
     },
     "08b3b24beca5436f80f988498311b423": {
      "model_module": "@jupyter-widgets/controls",
      "model_module_version": "1.5.0",
      "model_name": "FloatProgressModel",
      "state": {
       "_dom_classes": [],
       "_model_module": "@jupyter-widgets/controls",
       "_model_module_version": "1.5.0",
       "_model_name": "FloatProgressModel",
       "_view_count": null,
       "_view_module": "@jupyter-widgets/controls",
       "_view_module_version": "1.5.0",
       "_view_name": "ProgressView",
       "bar_style": "success",
       "description": "",
       "description_tooltip": null,
       "layout": "IPY_MODEL_de23f659b81b48348a2dbc5815cc0451",
       "max": 34.0,
       "min": 0.0,
       "orientation": "horizontal",
       "style": "IPY_MODEL_f867aa65b44c43f5bcbca5ddc570b6a1",
       "value": 34.0
      }
     },
     "28bf1b354fdc4ba0b6b0348f452377d4": {
      "model_module": "@jupyter-widgets/controls",
      "model_module_version": "1.5.0",
      "model_name": "ProgressStyleModel",
      "state": {
       "_model_module": "@jupyter-widgets/controls",
       "_model_module_version": "1.5.0",
       "_model_name": "ProgressStyleModel",
       "_view_count": null,
       "_view_module": "@jupyter-widgets/base",
       "_view_module_version": "1.2.0",
       "_view_name": "StyleView",
       "bar_color": null,
       "description_width": ""
      }
     },
     "2c2133baf4224e228c2d1e99257c6914": {
      "model_module": "@jupyter-widgets/controls",
      "model_module_version": "1.5.0",
      "model_name": "HTMLModel",
      "state": {
       "_dom_classes": [],
       "_model_module": "@jupyter-widgets/controls",
       "_model_module_version": "1.5.0",
       "_model_name": "HTMLModel",
       "_view_count": null,
       "_view_module": "@jupyter-widgets/controls",
       "_view_module_version": "1.5.0",
       "_view_name": "HTMLView",
       "description": "",
       "description_tooltip": null,
       "layout": "IPY_MODEL_dd914d83aeb34ba786c5094c167debcb",
       "placeholder": "​",
       "style": "IPY_MODEL_55e9b52325ba4d0e8c9a83fa110f2e96",
       "value": " 161/161 [00:00&lt;00:00, 1816.93it/s]"
      }
     },
     "40908bc003ef46b08281eb7355b5bcdb": {
      "model_module": "@jupyter-widgets/controls",
      "model_module_version": "1.5.0",
      "model_name": "HTMLModel",
      "state": {
       "_dom_classes": [],
       "_model_module": "@jupyter-widgets/controls",
       "_model_module_version": "1.5.0",
       "_model_name": "HTMLModel",
       "_view_count": null,
       "_view_module": "@jupyter-widgets/controls",
       "_view_module_version": "1.5.0",
       "_view_name": "HTMLView",
       "description": "",
       "description_tooltip": null,
       "layout": "IPY_MODEL_b17c2d8e9186444494135c30375e839c",
       "placeholder": "​",
       "style": "IPY_MODEL_01e86df0aa804944b9d7c5df44a7bdee",
       "value": " 34/34 [00:00&lt;00:00, 908.66it/s]"
      }
     },
     "52c645710e05433db938244c299952a5": {
      "model_module": "@jupyter-widgets/controls",
      "model_module_version": "1.5.0",
      "model_name": "HTMLModel",
      "state": {
       "_dom_classes": [],
       "_model_module": "@jupyter-widgets/controls",
       "_model_module_version": "1.5.0",
       "_model_name": "HTMLModel",
       "_view_count": null,
       "_view_module": "@jupyter-widgets/controls",
       "_view_module_version": "1.5.0",
       "_view_name": "HTMLView",
       "description": "",
       "description_tooltip": null,
       "layout": "IPY_MODEL_565d5e6193d440978fd3f6129384fb0e",
       "placeholder": "​",
       "style": "IPY_MODEL_a218e78fe9bf4eb6b002c22ded5217bb",
       "value": "Computing transition probabilities: 100%"
      }
     },
     "55e9b52325ba4d0e8c9a83fa110f2e96": {
      "model_module": "@jupyter-widgets/controls",
      "model_module_version": "1.5.0",
      "model_name": "DescriptionStyleModel",
      "state": {
       "_model_module": "@jupyter-widgets/controls",
       "_model_module_version": "1.5.0",
       "_model_name": "DescriptionStyleModel",
       "_view_count": null,
       "_view_module": "@jupyter-widgets/base",
       "_view_module_version": "1.2.0",
       "_view_name": "StyleView",
       "description_width": ""
      }
     },
     "565d5e6193d440978fd3f6129384fb0e": {
      "model_module": "@jupyter-widgets/base",
      "model_module_version": "1.2.0",
      "model_name": "LayoutModel",
      "state": {
       "_model_module": "@jupyter-widgets/base",
       "_model_module_version": "1.2.0",
       "_model_name": "LayoutModel",
       "_view_count": null,
       "_view_module": "@jupyter-widgets/base",
       "_view_module_version": "1.2.0",
       "_view_name": "LayoutView",
       "align_content": null,
       "align_items": null,
       "align_self": null,
       "border": null,
       "bottom": null,
       "display": null,
       "flex": null,
       "flex_flow": null,
       "grid_area": null,
       "grid_auto_columns": null,
       "grid_auto_flow": null,
       "grid_auto_rows": null,
       "grid_column": null,
       "grid_gap": null,
       "grid_row": null,
       "grid_template_areas": null,
       "grid_template_columns": null,
       "grid_template_rows": null,
       "height": null,
       "justify_content": null,
       "justify_items": null,
       "left": null,
       "margin": null,
       "max_height": null,
       "max_width": null,
       "min_height": null,
       "min_width": null,
       "object_fit": null,
       "object_position": null,
       "order": null,
       "overflow": null,
       "overflow_x": null,
       "overflow_y": null,
       "padding": null,
       "right": null,
       "top": null,
       "visibility": null,
       "width": null
      }
     },
     "80c2cb2423fd4eca891a808e733b1e8d": {
      "model_module": "@jupyter-widgets/controls",
      "model_module_version": "1.5.0",
      "model_name": "HTMLModel",
      "state": {
       "_dom_classes": [],
       "_model_module": "@jupyter-widgets/controls",
       "_model_module_version": "1.5.0",
       "_model_name": "HTMLModel",
       "_view_count": null,
       "_view_module": "@jupyter-widgets/controls",
       "_view_module_version": "1.5.0",
       "_view_name": "HTMLView",
       "description": "",
       "description_tooltip": null,
       "layout": "IPY_MODEL_b9c3ac5a206a4103b1798aa6cb332f9e",
       "placeholder": "​",
       "style": "IPY_MODEL_8eec3de6e113433a9e4ed0feeec6801c",
       "value": "Computing transition probabilities: 100%"
      }
     },
     "8eec3de6e113433a9e4ed0feeec6801c": {
      "model_module": "@jupyter-widgets/controls",
      "model_module_version": "1.5.0",
      "model_name": "DescriptionStyleModel",
      "state": {
       "_model_module": "@jupyter-widgets/controls",
       "_model_module_version": "1.5.0",
       "_model_name": "DescriptionStyleModel",
       "_view_count": null,
       "_view_module": "@jupyter-widgets/base",
       "_view_module_version": "1.2.0",
       "_view_name": "StyleView",
       "description_width": ""
      }
     },
     "9b66a3df9a4c4a4c8dbc99a7f76ea43d": {
      "model_module": "@jupyter-widgets/base",
      "model_module_version": "1.2.0",
      "model_name": "LayoutModel",
      "state": {
       "_model_module": "@jupyter-widgets/base",
       "_model_module_version": "1.2.0",
       "_model_name": "LayoutModel",
       "_view_count": null,
       "_view_module": "@jupyter-widgets/base",
       "_view_module_version": "1.2.0",
       "_view_name": "LayoutView",
       "align_content": null,
       "align_items": null,
       "align_self": null,
       "border": null,
       "bottom": null,
       "display": null,
       "flex": null,
       "flex_flow": null,
       "grid_area": null,
       "grid_auto_columns": null,
       "grid_auto_flow": null,
       "grid_auto_rows": null,
       "grid_column": null,
       "grid_gap": null,
       "grid_row": null,
       "grid_template_areas": null,
       "grid_template_columns": null,
       "grid_template_rows": null,
       "height": null,
       "justify_content": null,
       "justify_items": null,
       "left": null,
       "margin": null,
       "max_height": null,
       "max_width": null,
       "min_height": null,
       "min_width": null,
       "object_fit": null,
       "object_position": null,
       "order": null,
       "overflow": null,
       "overflow_x": null,
       "overflow_y": null,
       "padding": null,
       "right": null,
       "top": null,
       "visibility": null,
       "width": null
      }
     },
     "a218e78fe9bf4eb6b002c22ded5217bb": {
      "model_module": "@jupyter-widgets/controls",
      "model_module_version": "1.5.0",
      "model_name": "DescriptionStyleModel",
      "state": {
       "_model_module": "@jupyter-widgets/controls",
       "_model_module_version": "1.5.0",
       "_model_name": "DescriptionStyleModel",
       "_view_count": null,
       "_view_module": "@jupyter-widgets/base",
       "_view_module_version": "1.2.0",
       "_view_name": "StyleView",
       "description_width": ""
      }
     },
     "b0305e1700484312a16e7424d936602c": {
      "model_module": "@jupyter-widgets/controls",
      "model_module_version": "1.5.0",
      "model_name": "HBoxModel",
      "state": {
       "_dom_classes": [],
       "_model_module": "@jupyter-widgets/controls",
       "_model_module_version": "1.5.0",
       "_model_name": "HBoxModel",
       "_view_count": null,
       "_view_module": "@jupyter-widgets/controls",
       "_view_module_version": "1.5.0",
       "_view_name": "HBoxView",
       "box_style": "",
       "children": [
        "IPY_MODEL_52c645710e05433db938244c299952a5",
        "IPY_MODEL_08b3b24beca5436f80f988498311b423",
        "IPY_MODEL_40908bc003ef46b08281eb7355b5bcdb"
       ],
       "layout": "IPY_MODEL_9b66a3df9a4c4a4c8dbc99a7f76ea43d"
      }
     },
     "b17c2d8e9186444494135c30375e839c": {
      "model_module": "@jupyter-widgets/base",
      "model_module_version": "1.2.0",
      "model_name": "LayoutModel",
      "state": {
       "_model_module": "@jupyter-widgets/base",
       "_model_module_version": "1.2.0",
       "_model_name": "LayoutModel",
       "_view_count": null,
       "_view_module": "@jupyter-widgets/base",
       "_view_module_version": "1.2.0",
       "_view_name": "LayoutView",
       "align_content": null,
       "align_items": null,
       "align_self": null,
       "border": null,
       "bottom": null,
       "display": null,
       "flex": null,
       "flex_flow": null,
       "grid_area": null,
       "grid_auto_columns": null,
       "grid_auto_flow": null,
       "grid_auto_rows": null,
       "grid_column": null,
       "grid_gap": null,
       "grid_row": null,
       "grid_template_areas": null,
       "grid_template_columns": null,
       "grid_template_rows": null,
       "height": null,
       "justify_content": null,
       "justify_items": null,
       "left": null,
       "margin": null,
       "max_height": null,
       "max_width": null,
       "min_height": null,
       "min_width": null,
       "object_fit": null,
       "object_position": null,
       "order": null,
       "overflow": null,
       "overflow_x": null,
       "overflow_y": null,
       "padding": null,
       "right": null,
       "top": null,
       "visibility": null,
       "width": null
      }
     },
     "b308ef49001542099a12977b7d42332c": {
      "model_module": "@jupyter-widgets/controls",
      "model_module_version": "1.5.0",
      "model_name": "HBoxModel",
      "state": {
       "_dom_classes": [],
       "_model_module": "@jupyter-widgets/controls",
       "_model_module_version": "1.5.0",
       "_model_name": "HBoxModel",
       "_view_count": null,
       "_view_module": "@jupyter-widgets/controls",
       "_view_module_version": "1.5.0",
       "_view_name": "HBoxView",
       "box_style": "",
       "children": [
        "IPY_MODEL_80c2cb2423fd4eca891a808e733b1e8d",
        "IPY_MODEL_c660966b749e457fbf26691c20b3a645",
        "IPY_MODEL_2c2133baf4224e228c2d1e99257c6914"
       ],
       "layout": "IPY_MODEL_06f19618cbbd4845bf97ef7ee713b853"
      }
     },
     "b9c3ac5a206a4103b1798aa6cb332f9e": {
      "model_module": "@jupyter-widgets/base",
      "model_module_version": "1.2.0",
      "model_name": "LayoutModel",
      "state": {
       "_model_module": "@jupyter-widgets/base",
       "_model_module_version": "1.2.0",
       "_model_name": "LayoutModel",
       "_view_count": null,
       "_view_module": "@jupyter-widgets/base",
       "_view_module_version": "1.2.0",
       "_view_name": "LayoutView",
       "align_content": null,
       "align_items": null,
       "align_self": null,
       "border": null,
       "bottom": null,
       "display": null,
       "flex": null,
       "flex_flow": null,
       "grid_area": null,
       "grid_auto_columns": null,
       "grid_auto_flow": null,
       "grid_auto_rows": null,
       "grid_column": null,
       "grid_gap": null,
       "grid_row": null,
       "grid_template_areas": null,
       "grid_template_columns": null,
       "grid_template_rows": null,
       "height": null,
       "justify_content": null,
       "justify_items": null,
       "left": null,
       "margin": null,
       "max_height": null,
       "max_width": null,
       "min_height": null,
       "min_width": null,
       "object_fit": null,
       "object_position": null,
       "order": null,
       "overflow": null,
       "overflow_x": null,
       "overflow_y": null,
       "padding": null,
       "right": null,
       "top": null,
       "visibility": null,
       "width": null
      }
     },
     "c660966b749e457fbf26691c20b3a645": {
      "model_module": "@jupyter-widgets/controls",
      "model_module_version": "1.5.0",
      "model_name": "FloatProgressModel",
      "state": {
       "_dom_classes": [],
       "_model_module": "@jupyter-widgets/controls",
       "_model_module_version": "1.5.0",
       "_model_name": "FloatProgressModel",
       "_view_count": null,
       "_view_module": "@jupyter-widgets/controls",
       "_view_module_version": "1.5.0",
       "_view_name": "ProgressView",
       "bar_style": "success",
       "description": "",
       "description_tooltip": null,
       "layout": "IPY_MODEL_e9f605e0ae03408881f4ab5b6a3e66be",
       "max": 161.0,
       "min": 0.0,
       "orientation": "horizontal",
       "style": "IPY_MODEL_28bf1b354fdc4ba0b6b0348f452377d4",
       "value": 161.0
      }
     },
     "dd914d83aeb34ba786c5094c167debcb": {
      "model_module": "@jupyter-widgets/base",
      "model_module_version": "1.2.0",
      "model_name": "LayoutModel",
      "state": {
       "_model_module": "@jupyter-widgets/base",
       "_model_module_version": "1.2.0",
       "_model_name": "LayoutModel",
       "_view_count": null,
       "_view_module": "@jupyter-widgets/base",
       "_view_module_version": "1.2.0",
       "_view_name": "LayoutView",
       "align_content": null,
       "align_items": null,
       "align_self": null,
       "border": null,
       "bottom": null,
       "display": null,
       "flex": null,
       "flex_flow": null,
       "grid_area": null,
       "grid_auto_columns": null,
       "grid_auto_flow": null,
       "grid_auto_rows": null,
       "grid_column": null,
       "grid_gap": null,
       "grid_row": null,
       "grid_template_areas": null,
       "grid_template_columns": null,
       "grid_template_rows": null,
       "height": null,
       "justify_content": null,
       "justify_items": null,
       "left": null,
       "margin": null,
       "max_height": null,
       "max_width": null,
       "min_height": null,
       "min_width": null,
       "object_fit": null,
       "object_position": null,
       "order": null,
       "overflow": null,
       "overflow_x": null,
       "overflow_y": null,
       "padding": null,
       "right": null,
       "top": null,
       "visibility": null,
       "width": null
      }
     },
     "de23f659b81b48348a2dbc5815cc0451": {
      "model_module": "@jupyter-widgets/base",
      "model_module_version": "1.2.0",
      "model_name": "LayoutModel",
      "state": {
       "_model_module": "@jupyter-widgets/base",
       "_model_module_version": "1.2.0",
       "_model_name": "LayoutModel",
       "_view_count": null,
       "_view_module": "@jupyter-widgets/base",
       "_view_module_version": "1.2.0",
       "_view_name": "LayoutView",
       "align_content": null,
       "align_items": null,
       "align_self": null,
       "border": null,
       "bottom": null,
       "display": null,
       "flex": null,
       "flex_flow": null,
       "grid_area": null,
       "grid_auto_columns": null,
       "grid_auto_flow": null,
       "grid_auto_rows": null,
       "grid_column": null,
       "grid_gap": null,
       "grid_row": null,
       "grid_template_areas": null,
       "grid_template_columns": null,
       "grid_template_rows": null,
       "height": null,
       "justify_content": null,
       "justify_items": null,
       "left": null,
       "margin": null,
       "max_height": null,
       "max_width": null,
       "min_height": null,
       "min_width": null,
       "object_fit": null,
       "object_position": null,
       "order": null,
       "overflow": null,
       "overflow_x": null,
       "overflow_y": null,
       "padding": null,
       "right": null,
       "top": null,
       "visibility": null,
       "width": null
      }
     },
     "e9f605e0ae03408881f4ab5b6a3e66be": {
      "model_module": "@jupyter-widgets/base",
      "model_module_version": "1.2.0",
      "model_name": "LayoutModel",
      "state": {
       "_model_module": "@jupyter-widgets/base",
       "_model_module_version": "1.2.0",
       "_model_name": "LayoutModel",
       "_view_count": null,
       "_view_module": "@jupyter-widgets/base",
       "_view_module_version": "1.2.0",
       "_view_name": "LayoutView",
       "align_content": null,
       "align_items": null,
       "align_self": null,
       "border": null,
       "bottom": null,
       "display": null,
       "flex": null,
       "flex_flow": null,
       "grid_area": null,
       "grid_auto_columns": null,
       "grid_auto_flow": null,
       "grid_auto_rows": null,
       "grid_column": null,
       "grid_gap": null,
       "grid_row": null,
       "grid_template_areas": null,
       "grid_template_columns": null,
       "grid_template_rows": null,
       "height": null,
       "justify_content": null,
       "justify_items": null,
       "left": null,
       "margin": null,
       "max_height": null,
       "max_width": null,
       "min_height": null,
       "min_width": null,
       "object_fit": null,
       "object_position": null,
       "order": null,
       "overflow": null,
       "overflow_x": null,
       "overflow_y": null,
       "padding": null,
       "right": null,
       "top": null,
       "visibility": null,
       "width": null
      }
     },
     "f867aa65b44c43f5bcbca5ddc570b6a1": {
      "model_module": "@jupyter-widgets/controls",
      "model_module_version": "1.5.0",
      "model_name": "ProgressStyleModel",
      "state": {
       "_model_module": "@jupyter-widgets/controls",
       "_model_module_version": "1.5.0",
       "_model_name": "ProgressStyleModel",
       "_view_count": null,
       "_view_module": "@jupyter-widgets/base",
       "_view_module_version": "1.2.0",
       "_view_name": "StyleView",
       "bar_color": null,
       "description_width": ""
      }
     }
    },
    "version_major": 2,
    "version_minor": 0
   }
  }
 },
 "nbformat": 4,
 "nbformat_minor": 5
}
