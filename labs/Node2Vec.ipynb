{
 "cells": [
  {
   "cell_type": "markdown",
   "id": "6b9912e4-13eb-4c9d-b547-ab0473a2e629",
   "metadata": {},
   "source": [
    "## Node2Vec\n",
    "\n",
    "Jay Urbain, PhD\n",
    "\n",
    "Paper: [node2vec: Scalable Feature Learning for Networks](https://arxiv.org/abs/1607.00653)\n",
    "\n",
    "Other references:    \n",
    "https://github.com/aditya-grover/node2vec  \n",
    "https://en.wikipedia.org/wiki/Graph_theory  \n",
    "Graph Machine Learning: Take Graph Data to the Next Level by Applying Machine Learning Techniques and Algorithms by Aldo Marzullo, Claudio Stamile, and Enrico Deusebio  \n",
    "https://pypi.org/project/node2vec/  \n",
    "https://arxiv.org/pdf/1607.00653.pdf  \n",
    "https://towardsdatascience.com/node2vec-explained-db86a319e9ab/     \n",
    "\n",
    "Node2Vec is an algorithm that allows the user to map nodes in a graph G to an embedding space. Generally, the embedding space is of lower dimensions than the number of nodes in the original graph G. The algorithm tries to preserve the initial structure within the original graph. Essentially, the nodes which are similar within the graph will yield similar embeddings in the embedding space. These embedding spaces are essentially a vector corresponding to each node in the network. The graph embeddings are commonly used as input features to solve machine learning problems oriented around link prediction, community detection, classification, etc.\n",
    "\n",
    "When dealing with very large graphs it’s quite difficult for scientists to visually represent the Data they’re working with. A common solution to see how a graph looks is to generate node embeddings associated with that graph and then visualize the embeddings in a lower-dimensional space. This allows you to visually see potential clusters or groups forming in very large networks.\n"
   ]
  },
  {
   "cell_type": "raw",
   "id": "0e081a42-750c-41af-aca0-4e9e37456755",
   "metadata": {},
   "source": [
    "Python=3.8.8\n",
    "networkx=2.5\n",
    "pandas=1.2.4\n",
    "numpy=1.20.1\n",
    "matplotlib=3.3.4\n",
    "node2vec=0.4.4\n",
    "seaborn=0.11.1\n",
    "sklearn=0.24.1\n",
    "gensim=4.0.1"
   ]
  },
  {
   "cell_type": "code",
   "execution_count": 12,
   "id": "719a70d8-1e69-496b-b96a-d4bc8ab4cbe3",
   "metadata": {},
   "outputs": [],
   "source": [
    "\n",
    "# !pip install networkx\n",
    "# !pip install seaborn\n",
    "# !pip install node2vec\n",
    "# !pip install scikit-learn"
   ]
  },
  {
   "cell_type": "markdown",
   "id": "413aa0dd-7fe4-4410-aa7a-ff1a4a62c8fb",
   "metadata": {},
   "source": [
    "## Random Walks Generation\n",
    "\n",
    "### Random Walks with Restart \n",
    "\n",
    "Each step you take is determined probabilistically. This implies that you have moved in a certain direction based on a probabilistic outcome. This algorithm explores the relationship to each step that you would take and its distance from the initial starting point.\n",
    "\n",
    "Node2Vec introduces the following formula for determining the probability of moving to the node x given that you were previously at the node v.\n",
    "\n",
    "![node2vec formula](1m4SlFTQtd3ZSqUpGZ-8Uzg.webp)\n",
    "\n",
    "Where z is the normalization constant, and πvx is the unnormalized transition probability between nodes x and v. If there is no edge connecting x and v, then the probability will be 0, but if there is an edge, we identify a normalized probability of going from v to x.\n",
    "\n",
    "The paper states that the easiest way to introduce a bias to influence the random walks would be if there is a weight associated with each edge. However, that wouldn’t work in the case of unweighted networks. To resolve this, the authors introduced a guided random walk governed by two parameters p and q. p indicates the probability of a random walk getting back to the previous node, and q indicates the probability that a random walk can pass through a previously unseen part of the graph.\n",
    "\n",
    "![p, q](1Hewv8axfbOWLmjbWdE7KIg.webp)\n",
    "\n",
    "Where dtx represents the shortest path between nodes t and x. It can be visually seen in the illustration below.\n",
    "\n",
    "![node2vec](18I1CypymRZJPATjsTxg5PQ.webp)\n",
    "\n",
    "Images taken from Node2Vec Paper"
   ]
  },
  {
   "cell_type": "markdown",
   "id": "003988d7-887a-4954-99b1-77c3e8a321ba",
   "metadata": {},
   "source": [
    "## Skip-Gram Architecture\n",
    "\n",
    "Having a general knowledge of the word2vec is helpful for understanding what’s being done in node2vec. \n",
    "\n",
    "### Word2Vec \n",
    "\n",
    "The skip-gram model is a simple neural network with one hidden layer trained in order to predict the probability of a given word being present when an input word is present.\n",
    "\n",
    "![skip gram](1M6UxaLSbNMeoDFWRN_kPeQ.webp)\n",
    "\n",
    "\n",
    "Given some corpus of text, a target word is selected over some rolling window. The training data consists of pairwise combinations of that target word and all other words in the window. This is the resulting training data for the neural network. Once the model is trained, we can yield a probability of a word being a context word for a given target (embedding). The following image below represents the architecture of the neural network for the skip-gram model.\n",
    "\n",
    "![skipgram](1UYAkOS9JQwdozQjCzttuow.webp)\n",
    "\n",
    "A corpus can be represented as a vector of size N, where each element in N corresponds to a word in the corpus. During the training process, we have a pair of target and context words, the input array will have 0 in all elements except for the target word. The target word will be equal to 1. The hidden layer will learn the embedding representation of each word, yielding a d-dimensional embedding space. The output layer is a dense layer with a softmax activation function. The output layer will yield a vector of the same size as the input, each element in the vector will consist of a probability. This probability indicates the similarity between the target word and the associated word in the corpus."
   ]
  },
  {
   "cell_type": "markdown",
   "id": "de440d40-0ae9-44ab-b855-0602849ff6ab",
   "metadata": {},
   "source": [
    "## How Node2Vec Works\n",
    "\n",
    "\n",
    "Node2vec begins by inputting a graph and running a set of random walks from the input graph. The walks can then be represented as a directed sequence of words where each node represents a word. The generated random walks are then passed into the skip-gram model. As explained above, the skip-gram model works on words and sentences, each node in the random walk can be represented as a word and the entire walk can be represented as a sentence. The result of the skip-gram model yields an embedding for each node (or word in this analogy). \n",
    "\n",
    "![Node2Vec](1ok8syTKrUC1_Qo7cFxZUeQ.png)"
   ]
  },
  {
   "cell_type": "markdown",
   "id": "b31c7619-66f7-4c65-b8ac-51a3ccf80b89",
   "metadata": {},
   "source": [
    "## Generate Network\n",
    "\n",
    "The code below generates a random graph to use node2vec on. The user specifies the number of nodes and the degree distribution they want for the randomly generated network. The network will be generated through the configuration model. The configuration model generates a random graph through assigning edges to match a degree sequence. \n",
    "\n",
    "Since this is random, the resulting network will be different each time. Furthermore, this is just an example network to run node2vec on, just because the resulting network is a multi-graph doesn’t mean that node2vec can only run on other multi-graphs. Node2Vec can be ran on directed, undirected, weighted, multi, or regular networks. "
   ]
  },
  {
   "cell_type": "code",
   "execution_count": 13,
   "id": "c6794767-0df2-42a8-be5a-6d80a523116d",
   "metadata": {},
   "outputs": [
    {
     "name": "stdout",
     "output_type": "stream",
     "text": [
      "MultiGraph with 1000 nodes and 3127 edges\n"
     ]
    },
    {
     "data": {
      "image/png": "[encoded data removed]",
      "text/plain": [
       "<Figure size 640x480 with 1 Axes>"
      ]
     },
     "metadata": {},
     "output_type": "display_data"
    }
   ],
   "source": [
    "import networkx as nx\n",
    "import pandas as pd\n",
    "import numpy as np\n",
    "import matplotlib.pyplot as plt\n",
    "import seaborn as sns\n",
    "\n",
    "from sklearn.decomposition import PCA\n",
    "from node2vec import Node2Vec as n2v\n",
    "sns.set()\n",
    "\n",
    "def generate_graph_deg_dist(deg_dist, n):\n",
    "    '''\n",
    "    This function will generate a networkx graph G based on a degree distribution\n",
    "    provided by the user.\n",
    "    \n",
    "    params:\n",
    "        deg_dist (Dictionary) : The key will be the degree and the value is the probability\n",
    "                                of a node having that degree. The probabilities must sum to\n",
    "                                1\n",
    "        n (Integer) : The number of nodes you want the graph to yield\n",
    "                          \n",
    "    example:\n",
    "        G = generate_graph_deg_dist(\n",
    "                deg_dist = {\n",
    "                    6:0.2,\n",
    "                    3:0.14,\n",
    "                    8:0.35,\n",
    "                    4:0.3,\n",
    "                    11:0.01\n",
    "                },\n",
    "                n = 1000\n",
    "        )\n",
    "    '''\n",
    "    deg = list(deg_dist.keys())\n",
    "    proba = list(deg_dist.values())\n",
    "    if sum(proba) == 1.:\n",
    "        deg_sequence = np.random.choice(\n",
    "            deg,\n",
    "            n,\n",
    "            proba\n",
    "        )\n",
    "        \n",
    "        if sum(deg_sequence) % 2 != 0:\n",
    "            # to ensure that the degree sequence is always even for the configuration model\n",
    "            deg_sequence[1] = deg_sequence[1] + 1\n",
    "        \n",
    "        return nx.configuration_model(deg_sequence)\n",
    "    raise ValueError(\"Probabilities do not equal to 1\")\n",
    "    \n",
    "G = generate_graph_deg_dist(\n",
    "        deg_dist = {\n",
    "            6:0.2,\n",
    "            3:0.14,\n",
    "            8:0.35,\n",
    "            4:0.3,\n",
    "            11:0.01\n",
    "        },\n",
    "        n = 1000\n",
    ")\n",
    "\n",
    "print(G)\n",
    "\n",
    "# visualize degree distribution\n",
    "plt.clf()\n",
    "plt.hist(list(dict(G.degree()).values()))\n",
    "plt.title('Degree Distribution')\n",
    "plt.show()"
   ]
  },
  {
   "cell_type": "markdown",
   "id": "73744438-fc53-47a0-8953-733f68cfd4da",
   "metadata": {},
   "source": [
    "Note: You can use any network to test this algorithm out. Just review the networkx documentation.\n",
    "\n",
    "### Apply Node2Vec\n",
    "\n",
    "Parameter Info \n",
    "- graph: a graph g, where all nodes must be integers or strings \n",
    "- dimensions: embedding dimensions (default: 128) \n",
    "- walk_length: number of nodes in each walk (default: 80) \n",
    "- num_walks: number of walks per node (default: 10) \n",
    "- weight_key: the key for the weight attribute on weighted graphs (default: 'weight') \n",
    "- workers: number of workers for parallel execution (default: 1)\n",
    "- p: the probability of a random walk getting back to the previous node (default: 1)\n",
    "- q: probability that a random walk can pass through a previously unseen part of the graph (default: 1)\n",
    "\n",
    "The Node2Vec.fit method accepts any keyword argument acceptable by gensim.Word2Vec. The parameters mentioned above are documented in the node2vec library. \n",
    "\n",
    "Set the window value to be 1, the min_count to be 1, the batch_words to be 4, and the dimensions to be 16. \n",
    "\n",
    "Feel free to adjust these parameters accordingly to your own problem."
   ]
  },
  {
   "cell_type": "code",
   "execution_count": 14,
   "id": "0db14933-dc95-4362-888a-df6f2039569a",
   "metadata": {},
   "outputs": [
    {
     "data": {
      "application/vnd.jupyter.widget-view+json": {
       "model_id": "8c177bcfe1b847c68f907bbc29f7b53d",
       "version_major": 2,
       "version_minor": 0
      },
      "text/plain": [
       "Computing transition probabilities:   0%|          | 0/1000 [00:00<?, ?it/s]"
      ]
     },
     "metadata": {},
     "output_type": "display_data"
    },
    {
     "name": "stderr",
     "output_type": "stream",
     "text": [
      "Generating walks (CPU: 1): 100%|█████████████████████████████████████████████████████████████████████████████| 10/10 [00:01<00:00,  5.62it/s]\n"
     ]
    },
    {
     "name": "stdout",
     "output_type": "stream",
     "text": [
      "('817', 0.8083930015563965)\n",
      "('511', 0.779192328453064)\n",
      "('368', 0.776083767414093)\n",
      "('813', 0.7571462392807007)\n",
      "('172', 0.7554267048835754)\n",
      "('40', 0.746094822883606)\n",
      "('995', 0.7435788512229919)\n",
      "('139', 0.7398034930229187)\n",
      "('748', 0.7280104756355286)\n",
      "('637', 0.7256417274475098)\n"
     ]
    }
   ],
   "source": [
    "WINDOW = 1 # Node2Vec fit window\n",
    "MIN_COUNT = 1 # Node2Vec min. count\n",
    "BATCH_WORDS = 4 # Node2Vec batch words\n",
    "\n",
    "g_emb = n2v(\n",
    "  G,\n",
    "  dimensions=16\n",
    ")\n",
    "\n",
    "mdl = g_emb.fit(\n",
    "    vector_size = 16,\n",
    "    window=WINDOW,\n",
    "    min_count=MIN_COUNT,\n",
    "    batch_words=BATCH_WORDS\n",
    ")\n",
    "\n",
    "input_node = '1'\n",
    "for s in mdl.wv.most_similar(input_node, topn = 10):\n",
    "    print(s)"
   ]
  },
  {
   "cell_type": "markdown",
   "id": "d9329924-3faf-449b-939e-316754e5bf3d",
   "metadata": {},
   "source": [
    "### Convert to Dataframe"
   ]
  },
  {
   "cell_type": "code",
   "execution_count": 9,
   "id": "5736c06f-8d2f-4884-a742-bdf052331d3d",
   "metadata": {},
   "outputs": [],
   "source": [
    "emb_df = (\n",
    "    pd.DataFrame(\n",
    "        [mdl.wv.get_vector(str(n)) for n in G.nodes()],\n",
    "        index = G.nodes\n",
    "    )\n",
    ")"
   ]
  },
  {
   "cell_type": "markdown",
   "id": "00e342b1-e90f-49f7-a03f-c3c4714427ed",
   "metadata": {},
   "source": [
    "### Visualize Embeddings"
   ]
  },
  {
   "cell_type": "code",
   "execution_count": 18,
   "id": "22df4f49-74ec-43ee-a55c-f0a0d307ae97",
   "metadata": {},
   "outputs": [
    {
     "data": {
      "text/plain": [
       "[]"
      ]
     },
     "execution_count": 18,
     "metadata": {},
     "output_type": "execute_result"
    },
    {
     "data": {
      "text/plain": [
       "<Figure size 640x480 with 0 Axes>"
      ]
     },
     "metadata": {},
     "output_type": "display_data"
    },
    {
     "data": {
      "image/png": "[encoded data removed]",
      "text/plain": [
       "<Figure size 600x400 with 1 Axes>"
      ]
     },
     "metadata": {},
     "output_type": "display_data"
    }
   ],
   "source": [
    "pca = PCA(n_components = 2, random_state = 7)\n",
    "pca_mdl = pca.fit_transform(emb_df)\n",
    "\n",
    "emb_df_PCA = (\n",
    "    pd.DataFrame(\n",
    "        pca_mdl,\n",
    "        columns=['x','y'],\n",
    "        index = emb_df.index\n",
    "    )\n",
    ")\n",
    "plt.clf()\n",
    "fig = plt.figure(figsize=(6,4))\n",
    "plt.scatter(\n",
    "    x = emb_df_PCA['x'],\n",
    "    y = emb_df_PCA['y'],\n",
    "    s = 0.4,\n",
    "    color = 'maroon',\n",
    "    alpha = 0.5\n",
    ")\n",
    "plt.xlabel('PCA-1')\n",
    "plt.ylabel('PCA-2')\n",
    "plt.title('PCA Visualization')\n",
    "plt.plot()"
   ]
  },
  {
   "cell_type": "markdown",
   "id": "5e143635-0b93-4542-815d-ecda7b76bf0e",
   "metadata": {},
   "source": [
    "Why use Node2Vec?\n",
    "\n",
    "Summary  \n",
    "- It’s scalable and parallelizes easily\n",
    "- Open sourced in python & spark\n",
    "- Unique approach to learning feature representation via node embeddings\n",
    "- The structure of the original network is preserved through the embeddings\n",
    "- Node2Vec has many real world applications including and not limited to node classification, community detection, link prediction, etc."
   ]
  },
  {
   "cell_type": "markdown",
   "id": "8a194071-156f-4fcd-8246-e26870a666f8",
   "metadata": {},
   "source": []
  },
  {
   "cell_type": "code",
   "execution_count": null,
   "id": "bf7e93d1-d9f5-42ee-8bed-190cea7208aa",
   "metadata": {},
   "outputs": [],
   "source": []
  }
 ],
 "metadata": {
  "kernelspec": {
   "display_name": "options_dashboard",
   "language": "python",
   "name": "options_dashboard"
  },
  "language_info": {
   "codemirror_mode": {
    "name": "ipython",
    "version": 3
   },
   "file_extension": ".py",
   "mimetype": "text/x-python",
   "name": "python",
   "nbconvert_exporter": "python",
   "pygments_lexer": "ipython3",
   "version": "3.12.2"
  }
 },
 "nbformat": 4,
 "nbformat_minor": 5
}
