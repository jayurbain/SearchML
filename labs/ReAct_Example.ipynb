{
  "cells": [
    {
      "cell_type": "markdown",
      "id": "a7e84064",
      "metadata": {
        "id": "a7e84064"
      },
      "source": [
        "# Build LLM Agent combining Reasoning and Action (ReAct) framework using LangChain"
      ]
    },
    {
      "cell_type": "markdown",
      "id": "9fff6ed1",
      "metadata": {
        "id": "9fff6ed1"
      },
      "source": [
        "ReAct is technique which enable LLMs to do reasoning and take task specific actions. It combines chain of thought reasoning with action planning.\n",
        "\n",
        "It enables LLMs to generate reasoning traces and task-specific actions, leveraging the synergy between them. This approach demonstrates superior performance over baselines in various tasks, overcoming issues like hallucination and error propagation.\n",
        "\n",
        "In the notebook we will use OPENAI ChatGPT model.\n",
        "\n",
        "https://research.google/blog/react-synergizing-reasoning-and-acting-in-language-models/\n"
      ]
    },
    {
      "cell_type": "code",
      "execution_count": 6,
      "id": "f1edeeb0",
      "metadata": {
        "id": "f1edeeb0"
      },
      "outputs": [],
      "source": [
        "#!pip install openai langchain wikipedia\n",
        "#!pip install langchain-community"
      ]
    },
    {
      "cell_type": "code",
      "execution_count": 18,
      "id": "92609162-a5bd-4637-858e-0551231595e0",
      "metadata": {
        "id": "92609162-a5bd-4637-858e-0551231595e0"
      },
      "outputs": [],
      "source": [
        "import os\n",
        "OPENAI_API_KEY = \"xxx\"\n",
        "os.environ[\"OPENAI_API_KEY\"] = OPENAI_API_KEY or getpass(\"OpenAI API key: \")"
      ]
    },
    {
      "cell_type": "code",
      "execution_count": 19,
      "id": "1d31d568",
      "metadata": {
        "id": "1d31d568"
      },
      "outputs": [],
      "source": [
        "import openai\n",
        "import os\n",
        "openai.api_key  = os.getenv('OPENAI_API_KEY')"
      ]
    },
    {
      "cell_type": "markdown",
      "id": "42a0a4bc",
      "metadata": {
        "id": "42a0a4bc"
      },
      "source": [
        "Langchain has the concept of Agent. The core idea of agent is to use a language model to choose a sequence of actions to take.\n",
        "\n",
        "A language model agent is used as a reasoning engine to determine which actions to take and in which order. Langchain has an inbuilt agent called DocStore Explorer whose functionality aligns with the original ReAct research paper, for the Wikipedia use case.\n",
        "\n",
        "The DocStoreExplorer agent interacts with a document storage system (like Wikipedia), using two specific tools , a Search tool and a Lookup tool. The Search tool is responsible for locating a document, whereas the Lookup tool retrieves a term from the most recently discovered document.\n",
        "\n",
        "Initialize this doc store with Wikipedia as a document store."
      ]
    },
    {
      "cell_type": "code",
      "execution_count": 20,
      "id": "984b63a6",
      "metadata": {
        "id": "984b63a6"
      },
      "outputs": [],
      "source": [
        "from langchain.agents.react.base import DocstoreExplorer\n",
        "from langchain.docstore import Wikipedia\n",
        "docstore = DocstoreExplorer(Wikipedia())"
      ]
    },
    {
      "cell_type": "markdown",
      "id": "3fc6598c",
      "metadata": {
        "id": "3fc6598c"
      },
      "source": [
        "Another concept that Langchain provides is called tools. Tools are interfaces that an agent can use to interact with the outer world. We can create our own tool for Wikipedia API. In the tool specification, we can specify which function agent to call for interaction with outer world."
      ]
    },
    {
      "cell_type": "code",
      "execution_count": 21,
      "id": "00307cb6",
      "metadata": {
        "id": "00307cb6"
      },
      "outputs": [],
      "source": [
        "from langchain.agents import Tool\n",
        "tools = [\n",
        "    Tool(\n",
        "        name=\"Search\",\n",
        "        func=docstore.search,\n",
        "        description=\"useful for when you need to ask with search\",\n",
        "    ),\n",
        "    Tool(\n",
        "        name=\"Lookup\",\n",
        "        func=docstore.lookup,\n",
        "        description=\"useful for when you need to ask with lookup\",\n",
        "    ),\n",
        "]"
      ]
    },
    {
      "cell_type": "markdown",
      "id": "07566cdd",
      "metadata": {
        "id": "07566cdd"
      },
      "source": [
        "Instantiate a GPT-4 model as a LLM for our application."
      ]
    },
    {
      "cell_type": "code",
      "execution_count": 22,
      "id": "b7a09fd3",
      "metadata": {
        "id": "b7a09fd3"
      },
      "outputs": [],
      "source": [
        "from langchain.chat_models import ChatOpenAI\n",
        "llm = ChatOpenAI(model_name=\"gpt-4\")"
      ]
    },
    {
      "cell_type": "markdown",
      "id": "11256244",
      "metadata": {
        "id": "11256244"
      },
      "source": [
        "Initialize the agent with tools, the LLM and agent type."
      ]
    },
    {
      "cell_type": "code",
      "execution_count": 23,
      "id": "adc69c4a",
      "metadata": {
        "id": "adc69c4a"
      },
      "outputs": [],
      "source": [
        "from langchain.agents import AgentType, initialize_agent\n",
        "react = initialize_agent(tools, llm, agent=AgentType.REACT_DOCSTORE, verbose=True)"
      ]
    },
    {
      "cell_type": "markdown",
      "id": "c4d9781c",
      "metadata": {
        "id": "c4d9781c"
      },
      "source": [
        "When we pass our question to our ReAct agent, the Agent will interact with the OPENAI model using the API.\n",
        "\n",
        "It will also pass tools information (description of functions) to the model as additional argument in a prompt. In the case of OPENAI it is called OPENAI functions.\n",
        "\n",
        "If the model wants to search or lookup actions, then it returns that function description with function arguments (if any) to the agent.\n",
        "\n",
        "Then the agent calls that function using the tool and calls the  Model again with that information. It will do this in iterative manner as explained above.\n",
        "\n",
        "All this magic is done by agent for us."
      ]
    },
    {
      "cell_type": "code",
      "execution_count": 24,
      "id": "54138459",
      "metadata": {
        "colab": {
          "base_uri": "https://localhost:8080/"
        },
        "id": "54138459",
        "outputId": "83839524-f19d-4929-c6e5-2cba6063dd8d"
      },
      "outputs": [
        {
          "output_type": "stream",
          "name": "stdout",
          "text": [
            "\n",
            "\n",
            "\u001b[1m> Entering new AgentExecutor chain...\u001b[0m\n",
            "\u001b[32;1m\u001b[1;3mThought: I need to search Elon Musk and Mark Zuckerberg, find their professions, then find the profession they have in common.\n",
            "Action: Search[Elon Musk]\u001b[0m\n",
            "Observation: \u001b[36;1m\u001b[1;3mCould not find [Elon Musk]. Similar: ['Elon Musk', 'Wealth of Elon Musk', 'Elon Musk salute controversy', 'Protests against Elon Musk', 'Views of Elon Musk', 'Twitter under Elon Musk', 'Errol Musk', 'Acquisition of Twitter by Elon Musk', 'Business career of Elon Musk', 'Elon Musk (Isaacson book)']\u001b[0m\n",
            "Thought:\u001b[32;1m\u001b[1;3mI misspelled Elon Musk. I will correct it and search again.\n",
            "Action: Search[Elon Musk]\u001b[0m\n",
            "Observation: \u001b[36;1m\u001b[1;3mCould not find [Elon Musk]. Similar: ['Elon Musk', 'Wealth of Elon Musk', 'Elon Musk salute controversy', 'Protests against Elon Musk', 'Views of Elon Musk', 'Twitter under Elon Musk', 'Errol Musk', 'Acquisition of Twitter by Elon Musk', 'Business career of Elon Musk', 'Elon Musk (Isaacson book)']\u001b[0m\n",
            "Thought:\u001b[32;1m\u001b[1;3mThe search results seem to be repeating. I will select 'Business career of Elon Musk' to find his profession.\n",
            "Action: Search[Business career of Elon Musk]\u001b[0m\n",
            "Observation: \u001b[36;1m\u001b[1;3mElon Musk is a businessman and a political figure in the United States known predominantly for his leading roles in the automotive company Tesla, Inc. and the space company SpaceX. Musk is also known for his ownership of technology company X Corp. and his role in the founding of the Boring Company, xAI, Neuralink, and OpenAI.\n",
            "In 1995, Elon, co-founded what would later be known as Zip2, later selling the company to Compaq for $307 million in 1999. Receiving $22 million in the process, Musk used $12 million of the proceedings to co-found the e-payment company X.com that same year. In 2000, X.com merged with the online bank Confinity and was rebranded as PayPal. In 2002, Musk received $176 million after PayPal acquired eBay as the companies largest shareholder, and would much later purchase the X.com domain from PayPal, with the intention of creating an \"everything app\". In 2004, with an investment of $6.3 million, Musk then became the chairman and majority shareholder of Tesla. In 2016, Musk co-founded the neurotechnology startup company Neuralink, with an investment of $100 million, followed by founding the Boring Company to construct tunnels. In 2022, Musk completed his acquisition of Twitter, becoming the CEO of Twitter, prior to its rebranding to X.\n",
            "Beginning with his involved with space exploration companies in early 2001, he founded SpaceX in 2002, with the company attempting the first rocket launch in 2006. Since 2019, SpaceX been developing Starship, a reusable, super heavy-lift launch vehicle, and in 2015, they began development of the Starlink for satellite Internet access. Having sent Starlink terminals to Ukraine in 2022, Musk refused to block Russian state media on Starlink and later faced criticism over denying access over Crimea.\n",
            "With Tesla, he assumed leadership as CEO and product architect in 2008. In 2018, Musk was sued by the SEC for a tweet stating that funding had been secured for potentially taking Tesla private, later settling with the SEC, with Musk steping down as Tesla chairman while remaining its CEO. In 2023, shareholders filed a lawsuit, and a jury subsequently found Musk and Tesla not liable. As of 2019, Musk was the longest-tenured CEO of any automotive manufacturer globally, and under the CEO, Tesla has also constructed multiple lithium-ion battery and electric vehicle factories, named Gigafactories.\u001b[0m\n",
            "Thought:\u001b[32;1m\u001b[1;3mElon Musk's professions are businessman, CEO of multiple companies including Tesla and SpaceX, and he is also a political figure. I need to search Mark Zuckerberg next and find his professions.\n",
            "Action: Search[Mark Zuckerberg]\u001b[0m\n",
            "Observation: \u001b[36;1m\u001b[1;3mMark Elliot Zuckerberg (; born May 14, 1984) is an American businessman who co-founded the social media service Facebook and its parent company Meta Platforms, of which he is the chairman, chief executive officer, and controlling shareholder. Zuckerberg has been the subject of multiple lawsuits regarding the creation and ownership of the website as well as issues such as user privacy.\n",
            "Zuckerberg briefly attended Harvard College, where he launched Facebook in February 2004 with his roommates Eduardo Saverin, Andrew McCollum, Dustin Moskovitz and Chris Hughes. Zuckerberg took the company public in May 2012 with majority shares. He became the world's youngest self-made billionaire in 2008, at age 23, and has consistently ranked among the world's wealthiest individuals. According to Forbes, as of March 2025, Zuckerberg's estimated net worth stood at US$214.1 billion, making him the second richest individual in the world, behind Elon Musk and before Jeff Bezos.\n",
            "Zuckerberg has used his funds to organize multiple large donations, including the establishment of the Chan Zuckerberg Initiative. A film depicting Zuckerberg's early career, legal troubles and initial success with Facebook, The Social Network, was released in 2010 and won multiple Academy Awards. His prominence and fast rise in the technology industry has prompted political and legal attention.\u001b[0m\n",
            "Thought:\u001b[32;1m\u001b[1;3mMark Zuckerberg's professions are businessman and CEO of Facebook and Meta Platforms. So the profession Elon Musk and Mark Zuckerberg have in common is businessman and CEO.\n",
            "Action: Finish[businessman and CEO]\u001b[0m\n",
            "\n",
            "\u001b[1m> Finished chain.\u001b[0m\n"
          ]
        }
      ],
      "source": [
        "question = \"What profession does Elon Musk and Mark Zuckerburg have in common?\"\n",
        "result = react.run(question)"
      ]
    },
    {
      "cell_type": "markdown",
      "id": "d6e150dc",
      "metadata": {
        "id": "d6e150dc"
      },
      "source": [
        "#### We can finally get the answer"
      ]
    },
    {
      "cell_type": "code",
      "execution_count": 25,
      "id": "b2d094a0",
      "metadata": {
        "colab": {
          "base_uri": "https://localhost:8080/",
          "height": 35
        },
        "id": "b2d094a0",
        "outputId": "0bcf01a9-0976-40c6-caae-4480d0cde377"
      },
      "outputs": [
        {
          "output_type": "execute_result",
          "data": {
            "text/plain": [
              "'businessman and CEO'"
            ],
            "application/vnd.google.colaboratory.intrinsic+json": {
              "type": "string"
            }
          },
          "metadata": {},
          "execution_count": 25
        }
      ],
      "source": [
        "result"
      ]
    },
    {
      "cell_type": "code",
      "execution_count": null,
      "id": "6e1d3749",
      "metadata": {
        "id": "6e1d3749"
      },
      "outputs": [],
      "source": []
    }
  ],
  "metadata": {
    "kernelspec": {
      "display_name": "Python 3 (ipykernel)",
      "language": "python",
      "name": "python3"
    },
    "language_info": {
      "codemirror_mode": {
        "name": "ipython",
        "version": 3
      },
      "file_extension": ".py",
      "mimetype": "text/x-python",
      "name": "python",
      "nbconvert_exporter": "python",
      "pygments_lexer": "ipython3",
      "version": "3.12.2"
    },
    "colab": {
      "provenance": []
    }
  },
  "nbformat": 4,
  "nbformat_minor": 5
}